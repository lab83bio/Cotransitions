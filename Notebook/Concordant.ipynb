{
 "cells": [
  {
   "cell_type": "code",
   "execution_count": 1,
   "id": "565ccc63-6c12-4cf6-9921-f958ff2ae29b",
   "metadata": {},
   "outputs": [],
   "source": [
    "import warnings\n",
    "warnings.filterwarnings('ignore')\n",
    "\n",
    "import re\n",
    "import os\n",
    "import sys\n",
    "import json\n",
    "import tqdm\n",
    "import pickle\n",
    "import urllib\n",
    "import requests\n",
    "import textwrap\n",
    "import functools\n",
    "import traceback\n",
    "import itertools\n",
    "import matplotlib\n",
    "import numpy as np\n",
    "import pandas as pd\n",
    "from Bio import SeqIO\n",
    "import seaborn as sns\n",
    "import networkx as nx\n",
    "import plotly.express as px\n",
    "from functools import reduce\n",
    "import matplotlib.pyplot as plt\n",
    "\n",
    "from multiprocessing import Pool\n",
    "from sklearn.metrics import auc\n",
    "from sklearn.metrics import roc_curve\n",
    "\n",
    "from pygosemsim import graph\n",
    "from pygosemsim import download\n",
    "from pygosemsim import term_set\n",
    "from pygosemsim import similarity\n",
    "\n",
    "from utilities.funcs import *"
   ]
  },
  {
   "cell_type": "markdown",
   "id": "f861bde7-ddf6-429b-ae27-fa826d61684d",
   "metadata": {},
   "source": [
    "# Variables"
   ]
  },
  {
   "cell_type": "code",
   "execution_count": 2,
   "id": "f2590e5d-4940-4c45-9b3b-01845677bcb3",
   "metadata": {
    "tags": []
   },
   "outputs": [],
   "source": [
    "goslim_subset = 'goslim_generic'\n",
    "level = 'at2759'\n",
    "odb_levels = 'https://v101.orthodb.org/download/odb10v1_levels.tab.gz'\n",
    "levels = pd.read_table(odb_levels, compression='gzip', header=None)\n",
    "levels[0] = levels[0].apply(lambda x: f'at{x}')\n",
    "levels = dict(levels[[0,1]].values.tolist())\n",
    "levelname = levels.get(level)"
   ]
  },
  {
   "cell_type": "markdown",
   "id": "073d0aa4-7d79-418c-9c0d-ad41528d81e1",
   "metadata": {},
   "source": [
    "## File paths"
   ]
  },
  {
   "cell_type": "code",
   "execution_count": 46,
   "id": "191a99ad-ecb0-4a06-9c3f-c9efa05b654b",
   "metadata": {
    "tags": []
   },
   "outputs": [],
   "source": [
    "# INFILES\n",
    "\n",
    "transitions_file = 'Eukaryota.transitions.mini'\n",
    "clusters_raw_file = 'Eukaryota.clusters.mini'\n",
    "\n",
    "# #OUTFILES\n",
    "\n",
    "transitions_ogs_file = f'{transitions_file}.ogs'\n",
    "clusters_file = f'{clusters_raw_file}.grouped'\n",
    "allogs_file = f\"{transitions_file.split('.')[0]}.ogs\"\n",
    "\n",
    "# LINKS\n",
    "\n",
    "odb_og2genes = 'https://v101.orthodb.org/download/odb10v1_OG2genes.tab.gz'\n",
    "odb_genexrefs = 'https://v101.orthodb.org/download/odb10v1_gene_xrefs.tab.gz'\n",
    "\n",
    "ogunigo_file = f'external/og_uni_go_{levelname}_experimental_mini.tsv'\n",
    "ogunigotrans_file = f'{transitions_file}.unigo.experimental'\n",
    "\n",
    "pygosemsim_file = f'{ogunigotrans_file}.pygosemsim'\n",
    "\n",
    "# # goslim infiles\n",
    "# goobo = 'external/go.obo'\n",
    "\n",
    "# # mapping files containing: orthogroups --> GO from Uniprot\n",
    "# oguni = f'external/og_uni_{levelname}.tsv'\n",
    "# unigo = 'Eukaryota.raxml.RL.csv.num.transitions.annotated.unigo'\n",
    "# ogunigo = f'{transitions_file}.unigo'\n",
    "\n",
    "# pygosemsim_file = f'{ogunigo_file}.pygosemsim'\n",
    "# ogunigo_slim_file = f'{ogunigo_file}.slim'\n",
    "\n",
    "# # orthoDB data output file\n",
    "# ogunilevel = f'external/og_uni_go_{levelname}.tsv'\n",
    "# # subset files for GOs slimming \n",
    "# goslim_outfile = 'external/annotations.generic'\n",
    "# odbfile = 'external/odbinfos.pickle'"
   ]
  },
  {
   "cell_type": "markdown",
   "id": "dbb27c14-e827-4c2a-92e1-bf25c5d0a9cd",
   "metadata": {},
   "source": [
    "# Processing files"
   ]
  },
  {
   "cell_type": "code",
   "execution_count": 34,
   "id": "f77d9ed8-b0a6-4011-84a3-03fb16231e53",
   "metadata": {
    "tags": []
   },
   "outputs": [],
   "source": [
    "# transition pairs to single, most significant ogs\n",
    "transitionstoogs(transitions_file).to_csv(transitions_ogs_file, sep='\\t', index=None)\n",
    "\n",
    "# processing raw clusters file --> dataframe\n",
    "clustersfromraw(clusters_raw_file, transitions_file).to_csv(clusters_file, sep='\\t', index=None)\n",
    "\n",
    "# all ogs list\n",
    "transitionsogs = transitionstoogs(transitions_file)\n",
    "allogsdf = transitionsogs[['og','ogname']]\n",
    "allogsdf.columns = ['og','name']\n",
    "\n",
    "allogsdf.to_csv(allogs_file, sep='\\t', index=None)"
   ]
  },
  {
   "cell_type": "markdown",
   "id": "61f0d6e1-fff1-41e4-9302-1c1413b39bae",
   "metadata": {},
   "source": [
    "# GO"
   ]
  },
  {
   "cell_type": "markdown",
   "id": "bb8fe5d0-0630-4f44-9ca2-901f517a3412",
   "metadata": {},
   "source": [
    "## GO Mapping"
   ]
  },
  {
   "cell_type": "markdown",
   "id": "d4c6b054-91a6-4751-a7c0-51b1f709bec7",
   "metadata": {},
   "source": [
    "Decomment the following cell for the long version"
   ]
  },
  {
   "cell_type": "code",
   "execution_count": 12,
   "id": "238c828c-df74-43b5-ba7a-4b200706ca6b",
   "metadata": {},
   "outputs": [],
   "source": [
    "##### for the long version\n",
    "# oguni_file = f'external/og_uni_{levelname}.tsv'\n",
    "# ogunigo_file = f'external/og_uni_go_{levelname}.tsv'\n",
    "\n",
    "# !wget external/http://release.geneontology.org/2020-01-01/annotations/goa_uniprot_all.gaf.gz\n",
    "# goa = 'external/goa_uniprot_all.gaf.gz'\n",
    "\n",
    "# xref = pd.read_table(odb_og2genes, compression='gzip', header=None)\n",
    "# og2genes = pd.read_table(ogb_genexrefs, compression='gzip', header=None)\n",
    "# og2genes = og2genes[og2genes[2]=='UniProt']\n",
    "# merged = pd.merge(og2genes, xref.rename(columns={0:3,1:0}))\n",
    "# merged2 = merged[merged[3].str.contains(level)]\n",
    "# merged2.columns = ['gene','id','db','og']\n",
    "# merged2.to_csv(oguni_file, sep='\\t', index=None)\n",
    "\n",
    "# !python3 utilities/oguni2chunk goa oguni_file ogunigo_file\n",
    "\n",
    "# oggo = pd.read_table(ogunigo_file)\n",
    "# ex = ['IDA', 'IMP', 'IPI', 'IEP', 'IGI']\n",
    "\n",
    "# oggo = oggo[oggo['og'].isin(set(oggo[oggo['evidence'].isin(ex)]['og']))]\n",
    "\n",
    "# oggo[~oggo['go'].isin(['GO:0008150', 'GO:0005575', 'GO:0003674'])\n",
    "#     ].to_csv(ogunigo_file.replace('.tsv', '_experimental.tsv'), \n",
    "#              sep ='\\t', index=False)"
   ]
  },
  {
   "cell_type": "markdown",
   "id": "3edaeb2f-df0a-493d-a667-6d4b2c551103",
   "metadata": {},
   "source": [
    "For the brief version (we'll attach these file in the folder 'external')"
   ]
  },
  {
   "cell_type": "code",
   "execution_count": 44,
   "id": "2e9f0776-d528-48ce-ba98-e3a2c319f238",
   "metadata": {
    "tags": []
   },
   "outputs": [],
   "source": [
    "trans = pd.read_table(transitions_file)\n",
    "clu = pd.read_table(clusters_file)\n",
    "ogs = set(trans['Orthogroup1'].tolist()+trans['Orthogroup2'].tolist())\n",
    "\n",
    "# oguni = pd.read_table('../../og_uni_Eukaryota.tsv')\n",
    "# oguni[oguni['og'].isin(set(trans['Orthogroup1'].tolist()+trans['Orthogroup2'].tolist()))\n",
    "#      ].to_csv('external/og_uni_Eukaryota_mini.tsv', sep='\\t', index=None)\n",
    "\n",
    "# ogunigo = pd.read_table('../../og_uni_go_Eukaryota_experimental_filt.tsv')\n",
    "# ogunigo[ogunigo['og'].isin(ogs)\n",
    "#        ].to_csv(ogunigo_file, sep='\\t', index=None)\n",
    "\n",
    "transitions = pd.read_table(transitions_file)\n",
    "oggo = pd.read_table(ogunigo_file)\n",
    "oggo = oggo[oggo['og'].isin(set(transitions['Orthogroup1'].tolist()+transitions['Orthogroup2'].tolist()))]\n",
    "oggo.to_csv(ogunigotrans_file, sep='\\t', index=None)"
   ]
  },
  {
   "cell_type": "markdown",
   "id": "e4e602a0-b2e9-4891-8f75-5414df84e7f6",
   "metadata": {},
   "source": [
    "## PyGOSemSim"
   ]
  },
  {
   "cell_type": "code",
   "execution_count": 47,
   "id": "0ed4d726-89e1-456b-aa2b-3168c74137f6",
   "metadata": {},
   "outputs": [],
   "source": [
    "try:\n",
    "    download.obo(\"go-basic\")\n",
    "    download.download(\"goslim_chembl.obo\",\n",
    "        \"http://www.geneontology.org/ontology/subsets/goslim_chembl.obo\")\n",
    "    G = graph.from_resource(\"go-basic\")\n",
    "    G_chembl = graph.from_resource(\"goslim_chembl\")\n",
    "    similarity.precalc_lower_bounds(G)\n",
    "except ValueError:\n",
    "    pass\n",
    "\n",
    "def calcsim(indexgo1go2):\n",
    "    try:\n",
    "        sf = functools.partial(term_set.sim_func, G, similarity.resnik)\n",
    "        si = term_set.sim_bma(indexgo1go2[1], indexgo1go2[2], sf)\n",
    "    except:\n",
    "        si = 0\n",
    "    return [indexgo1go2[0], si]\n",
    "\n",
    "transitions = pd.read_table(transitions_file)\n",
    "oggo_df = pd.read_table(ogunigotrans_file)\n",
    "oggo = dict(oggo_df.groupby('og')['go'].apply(lambda x: list(set(x))).reset_index().values)\n",
    "oggo_bp = dict(oggo_df[oggo_df['type']=='P'].groupby('og')['go'].apply(lambda x: list(set(x))).reset_index().values)\n",
    "oggo_cc = dict(oggo_df[oggo_df['type']=='C'].groupby('og')['go'].apply(lambda x: list(set(x))).reset_index().values)\n",
    "oggo_mf = dict(oggo_df[oggo_df['type']=='F'].groupby('og')['go'].apply(lambda x: list(set(x))).reset_index().values)\n",
    "dfs = []\n",
    "for OGGO, typ in zip([oggo_bp, oggo_cc, oggo_mf],\n",
    "                     ['BP', 'CC', 'MF']):\n",
    "    oggo_df = transitions[['Orthogroup1','Orthogroup2']].applymap(lambda x: OGGO.get(x)).reset_index()\n",
    "    oggo_df.columns = ['index','go1', 'go2']\n",
    "    oggo_df = oggo_df.dropna()\n",
    "    simscore = Pool(500).map(calcsim, oggo_df.values.tolist())\n",
    "    simscore = dict(simscore)\n",
    "    oggo_df['simscore'] = oggo_df['index'].apply(lambda x: simscore.get(x))\n",
    "    oggo_df = oggo_df.drop('index', axis=1)\n",
    "    oggo_df = oggo_df.reset_index(drop=True).rename(columns={'simscore':f'{typ.lower()}sim', \n",
    "                                                                          'go1':f'go1_{typ.lower()}', \n",
    "                                                                          'go2':f'go2_{typ.lower()}'})\n",
    "    oggo_df[f'len_go1_{typ.lower()}'] = oggo_df[f'go1_{typ.lower()}'].apply(len)\n",
    "    oggo_df[f'len_go2_{typ.lower()}'] = oggo_df[f'go2_{typ.lower()}'].apply(len)\n",
    "    dfs.append(pd.concat([transitions.loc[list(simscore.keys())].reset_index(drop=True), oggo_df], axis=1))\n",
    "total = (dfs[0]\n",
    " .merge(dfs[1], how='outer')\n",
    " .merge(dfs[2], how='outer')\n",
    ")\n",
    "total.to_csv(pygosemsim_file, sep='\\t', index=False)"
   ]
  },
  {
   "cell_type": "code",
   "execution_count": null,
   "id": "dee58984-3ab1-4d15-a640-d4ab1226ed09",
   "metadata": {},
   "outputs": [],
   "source": []
  },
  {
   "cell_type": "code",
   "execution_count": null,
   "id": "ac5326d8-412a-4095-987f-5de748ca4669",
   "metadata": {},
   "outputs": [],
   "source": []
  },
  {
   "cell_type": "code",
   "execution_count": null,
   "id": "116c708f-41f6-48a8-9c0b-f2a0cf3c0013",
   "metadata": {},
   "outputs": [],
   "source": []
  },
  {
   "cell_type": "code",
   "execution_count": null,
   "id": "b32e1b09-fb40-4863-b52e-c54fbcd23981",
   "metadata": {},
   "outputs": [],
   "source": []
  },
  {
   "cell_type": "code",
   "execution_count": null,
   "id": "65242c2b-9f93-437c-8671-e7f4bdcfddfd",
   "metadata": {},
   "outputs": [],
   "source": []
  },
  {
   "cell_type": "code",
   "execution_count": null,
   "id": "f8dbb2e0-2239-4270-aae7-7881774a60ea",
   "metadata": {
    "tags": []
   },
   "outputs": [],
   "source": []
  },
  {
   "cell_type": "code",
   "execution_count": null,
   "id": "7d7f2b86-5860-45b2-b998-9e9e4f54c272",
   "metadata": {},
   "outputs": [],
   "source": []
  },
  {
   "cell_type": "code",
   "execution_count": null,
   "id": "90f65b22-b70a-4ad9-a877-524d53e2d5fe",
   "metadata": {},
   "outputs": [],
   "source": []
  },
  {
   "cell_type": "code",
   "execution_count": null,
   "id": "c860a7fb-997f-4227-9ea6-ea9be1c1641c",
   "metadata": {},
   "outputs": [],
   "source": []
  }
 ],
 "metadata": {
  "kernelspec": {
   "display_name": "Python 3 (ipykernel)",
   "language": "python",
   "name": "python3"
  },
  "language_info": {
   "codemirror_mode": {
    "name": "ipython",
    "version": 3
   },
   "file_extension": ".py",
   "mimetype": "text/x-python",
   "name": "python",
   "nbconvert_exporter": "python",
   "pygments_lexer": "ipython3",
   "version": "3.10.6"
  },
  "toc-autonumbering": true
 },
 "nbformat": 4,
 "nbformat_minor": 5
}
