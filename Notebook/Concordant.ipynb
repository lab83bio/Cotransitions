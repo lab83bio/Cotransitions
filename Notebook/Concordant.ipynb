{
 "cells": [
  {
   "cell_type": "code",
   "execution_count": 1,
   "id": "565ccc63-6c12-4cf6-9921-f958ff2ae29b",
   "metadata": {},
   "outputs": [],
   "source": [
    "import warnings\n",
    "warnings.filterwarnings('ignore')\n",
    "\n",
    "import re\n",
    "import os\n",
    "import sys\n",
    "import json\n",
    "import tqdm\n",
    "import pickle\n",
    "import urllib\n",
    "import requests\n",
    "import textwrap\n",
    "import functools\n",
    "import traceback\n",
    "import itertools\n",
    "import matplotlib\n",
    "import numpy as np\n",
    "import pandas as pd\n",
    "from Bio import SeqIO\n",
    "import seaborn as sns\n",
    "import networkx as nx\n",
    "import plotly.express as px\n",
    "from functools import reduce\n",
    "import matplotlib.pyplot as plt\n",
    "from multiprocessing import Pool\n",
    "from sklearn.metrics import auc\n",
    "from sklearn.metrics import roc_curve\n",
    "\n",
    "from pygosemsim import graph\n",
    "from pygosemsim import download\n",
    "from pygosemsim import term_set\n",
    "from pygosemsim import similarity\n",
    "\n",
    "from utilities.funcs import *"
   ]
  },
  {
   "cell_type": "markdown",
   "id": "f861bde7-ddf6-429b-ae27-fa826d61684d",
   "metadata": {},
   "source": [
    "# Variables"
   ]
  },
  {
   "cell_type": "code",
   "execution_count": 2,
   "id": "f2590e5d-4940-4c45-9b3b-01845677bcb3",
   "metadata": {
    "tags": []
   },
   "outputs": [],
   "source": [
    "goslim_subset = 'goslim_generic'\n",
    "level = 'at2759'\n",
    "odb_levels = 'https://v101.orthodb.org/download/odb10v1_levels.tab.gz'\n",
    "levels = pd.read_table(odb_levels, compression='gzip', header=None)\n",
    "levels[0] = levels[0].apply(lambda x: f'at{x}')\n",
    "levels = dict(levels[[0,1]].values.tolist())\n",
    "levelname = levels.get(level)"
   ]
  },
  {
   "cell_type": "markdown",
   "id": "073d0aa4-7d79-418c-9c0d-ad41528d81e1",
   "metadata": {},
   "source": [
    "## File paths"
   ]
  },
  {
   "cell_type": "code",
   "execution_count": 3,
   "id": "191a99ad-ecb0-4a06-9c3f-c9efa05b654b",
   "metadata": {
    "tags": []
   },
   "outputs": [],
   "source": [
    "# INFILES\n",
    "\n",
    "transitions_file = 'Eukaryota.transitions.mini'\n",
    "clusters_raw_file = 'Eukaryota.clusters.mini'\n",
    "\n",
    "# #OUTFILES\n",
    "\n",
    "transitions_ogs_file = f'{transitions_file}.ogs'\n",
    "clusters_file = f'{clusters_raw_file}.grouped'\n",
    "allogs_file = f\"{transitions_file.split('.')[0]}.ogs\"\n",
    "\n",
    "# LINKS\n",
    "\n",
    "odb_og2genes = 'https://v101.orthodb.org/download/odb10v1_OG2genes.tab.gz'\n",
    "odb_genexrefs = 'https://v101.orthodb.org/download/odb10v1_gene_xrefs.tab.gz'\n",
    "\n",
    "# # goslim infiles\n",
    "# goobo = 'external/go.obo'\n",
    "\n",
    "# # mapping files containing: orthogroups --> GO from Uniprot\n",
    "# oguni = f'external/og_uni_{levelname}.tsv'\n",
    "# unigo = 'Eukaryota.raxml.RL.csv.num.transitions.annotated.unigo'\n",
    "# ogunigo = f'{transitions_file}.unigo'\n",
    "\n",
    "# pygosemsim_file = f'{ogunigo_file}.pygosemsim'\n",
    "# ogunigo_slim_file = f'{ogunigo_file}.slim'\n",
    "\n",
    "# # orthoDB data output file\n",
    "# ogunilevel = f'external/og_uni_go_{levelname}.tsv'\n",
    "# # subset files for GOs slimming \n",
    "# goslim_outfile = 'external/annotations.generic'\n",
    "# odbfile = 'external/odbinfos.pickle'"
   ]
  },
  {
   "cell_type": "markdown",
   "id": "dbb27c14-e827-4c2a-92e1-bf25c5d0a9cd",
   "metadata": {},
   "source": [
    "# Processing files"
   ]
  },
  {
   "cell_type": "code",
   "execution_count": 4,
   "id": "f77d9ed8-b0a6-4011-84a3-03fb16231e53",
   "metadata": {
    "tags": []
   },
   "outputs": [],
   "source": [
    "# transition pairs to single, most significant ogs\n",
    "transitionstoogs(transitions_file).to_csv(transitions_ogs_file, sep='\\t', index=None)\n",
    "\n",
    "# processing raw clusters file --> dataframe\n",
    "clustersfromraw(clusters_raw_file, transitions_file).to_csv(clusters_file, sep='\\t', index=None)\n",
    "\n",
    "# all ogs list\n",
    "transitionsogs = transitionstoogs(transitions_file)\n",
    "allogsdf = transitionsogs[['og','ogname']]\n",
    "allogsdf.columns = ['og','name']\n",
    "\n",
    "allogsdf.to_csv(allogs_file, sep='\\t', index=None)"
   ]
  },
  {
   "cell_type": "markdown",
   "id": "61f0d6e1-fff1-41e4-9302-1c1413b39bae",
   "metadata": {},
   "source": [
    "# GO"
   ]
  },
  {
   "cell_type": "markdown",
   "id": "bb8fe5d0-0630-4f44-9ca2-901f517a3412",
   "metadata": {},
   "source": [
    "## GO Mapping"
   ]
  },
  {
   "cell_type": "code",
   "execution_count": 5,
   "id": "238c828c-df74-43b5-ba7a-4b200706ca6b",
   "metadata": {},
   "outputs": [],
   "source": [
    "oguni = f'external/og_uni_{levelname}.tsv'\n",
    "ogunigo = f'external/og_uni_go_{levelname}.tsv'\n",
    "\n",
    "!wget external/http://release.geneontology.org/2020-01-01/annotations/goa_uniprot_all.gaf.gz\n",
    "goa = 'external/goa_uniprot_all.gaf.gz'\n",
    "\n",
    "xref = pd.read_table(odb_og2genes, compression='gzip', header=None)\n",
    "og2genes = pd.read_table(ogb_genexrefs, compression='gzip', header=None)\n",
    "og2genes = og2genes[og2genes[2]=='UniProt']\n",
    "merged = pd.merge(og2genes, xref.rename(columns={0:3,1:0}))\n",
    "merged2 = merged[merged[3].str.contains(level)]\n",
    "merged2.columns = ['gene','id','db','og']\n",
    "merged2.to_csv(oguni, sep='\\t', index=None)\n",
    "\n",
    "!python3 utilities/oguni2chunk goa oguni ogunigo\n",
    "\n",
    "oggo = pd.read_table(ogunigo)\n",
    "ex = ['IDA', 'IMP', 'IPI', 'IEP', 'IGI']\n",
    "\n",
    "oggo = oggo[oggo['og'].isin(set(oggo[oggo['evidence'].isin(ex)]['og']))]\n",
    "\n",
    "oggo[~oggo['go'].isin(['GO:0008150', 'GO:0005575', 'GO:0003674'])\n",
    "    ].to_csv(ogunigo.replace('.tsv', '.experimental.tsv'), \n",
    "             sep ='\\t', index=False)\n",
    "\n",
    "transitions = pd.read_table(transitions_file, header=None)\n",
    "oggo = pd.read_table(ogunigo.replace('.tsv', '.experimental.filt.tsv')\n",
    "oggo = oggo[oggo['og'].isin(set(transitions[0].tolist()+transitions[1].tolist()))]\n",
    "oggo.to_csv(f'{transitions_file}.unigo.experimental', sep='\\t', index=None)"
   ]
  },
  {
   "cell_type": "code",
   "execution_count": 10,
   "id": "2e9f0776-d528-48ce-ba98-e3a2c319f238",
   "metadata": {},
   "outputs": [],
   "source": [
    "###### for the brief version (we'll attach this file in the folder 'external')\n",
    "trans = pd.read_table('Eukaryota.transitions.mini')\n",
    "clu = pd.read_table('Eukaryota.clusters.mini')\n",
    "ogs = set(trans['Orthogroup1'].tolist()+trans['Orthogroup2'].tolist())\n",
    "\n",
    "oguni = pd.read_table(oguni_file)\n",
    "oguni[oguni['og'].isin(set(trans['Orthogroup1'].tolist()+trans['Orthogroup2'].tolist()))\n",
    "     ].to_csv(oguni.replace('.tsv', '_mini.tsv', sep='\\t', index=None)\n",
    "\n"
   ]
  },
  {
   "cell_type": "code",
   "execution_count": 11,
   "id": "b078f30f-5016-4fd4-ae4d-4c99bed73dce",
   "metadata": {},
   "outputs": [
    {
     "data": {
      "text/html": [
       "<div>\n",
       "<style scoped>\n",
       "    .dataframe tbody tr th:only-of-type {\n",
       "        vertical-align: middle;\n",
       "    }\n",
       "\n",
       "    .dataframe tbody tr th {\n",
       "        vertical-align: top;\n",
       "    }\n",
       "\n",
       "    .dataframe thead th {\n",
       "        text-align: right;\n",
       "    }\n",
       "</style>\n",
       "<table border=\"1\" class=\"dataframe\">\n",
       "  <thead>\n",
       "    <tr style=\"text-align: right;\">\n",
       "      <th></th>\n",
       "      <th>og</th>\n",
       "      <th>go</th>\n",
       "      <th>type</th>\n",
       "      <th>evidence</th>\n",
       "    </tr>\n",
       "  </thead>\n",
       "  <tbody>\n",
       "    <tr>\n",
       "      <th>0</th>\n",
       "      <td>1002357at2759</td>\n",
       "      <td>GO:0004177</td>\n",
       "      <td>F</td>\n",
       "      <td>IEA</td>\n",
       "    </tr>\n",
       "    <tr>\n",
       "      <th>1</th>\n",
       "      <td>1002357at2759</td>\n",
       "      <td>GO:0006464</td>\n",
       "      <td>P</td>\n",
       "      <td>IEA</td>\n",
       "    </tr>\n",
       "    <tr>\n",
       "      <th>2</th>\n",
       "      <td>1002357at2759</td>\n",
       "      <td>GO:0006508</td>\n",
       "      <td>P</td>\n",
       "      <td>IEA</td>\n",
       "    </tr>\n",
       "    <tr>\n",
       "      <th>3</th>\n",
       "      <td>1002357at2759</td>\n",
       "      <td>GO:0008233</td>\n",
       "      <td>F</td>\n",
       "      <td>IEA</td>\n",
       "    </tr>\n",
       "    <tr>\n",
       "      <th>4</th>\n",
       "      <td>1002357at2759</td>\n",
       "      <td>GO:0016787</td>\n",
       "      <td>F</td>\n",
       "      <td>IEA</td>\n",
       "    </tr>\n",
       "    <tr>\n",
       "      <th>...</th>\n",
       "      <td>...</td>\n",
       "      <td>...</td>\n",
       "      <td>...</td>\n",
       "      <td>...</td>\n",
       "    </tr>\n",
       "    <tr>\n",
       "      <th>1014341</th>\n",
       "      <td>204282at2759</td>\n",
       "      <td>GO:0003690</td>\n",
       "      <td>F</td>\n",
       "      <td>IEA</td>\n",
       "    </tr>\n",
       "    <tr>\n",
       "      <th>1014342</th>\n",
       "      <td>204282at2759</td>\n",
       "      <td>GO:0006355</td>\n",
       "      <td>P</td>\n",
       "      <td>IEA</td>\n",
       "    </tr>\n",
       "    <tr>\n",
       "      <th>1014419</th>\n",
       "      <td>754103at2759</td>\n",
       "      <td>GO:0004555</td>\n",
       "      <td>F</td>\n",
       "      <td>IEA</td>\n",
       "    </tr>\n",
       "    <tr>\n",
       "      <th>1014420</th>\n",
       "      <td>754103at2759</td>\n",
       "      <td>GO:0005991</td>\n",
       "      <td>P</td>\n",
       "      <td>IEA</td>\n",
       "    </tr>\n",
       "    <tr>\n",
       "      <th>1014421</th>\n",
       "      <td>754103at2759</td>\n",
       "      <td>GO:0006397</td>\n",
       "      <td>P</td>\n",
       "      <td>IEA</td>\n",
       "    </tr>\n",
       "  </tbody>\n",
       "</table>\n",
       "<p>39191 rows × 4 columns</p>\n",
       "</div>"
      ],
      "text/plain": [
       "                    og          go type evidence\n",
       "0        1002357at2759  GO:0004177    F      IEA\n",
       "1        1002357at2759  GO:0006464    P      IEA\n",
       "2        1002357at2759  GO:0006508    P      IEA\n",
       "3        1002357at2759  GO:0008233    F      IEA\n",
       "4        1002357at2759  GO:0016787    F      IEA\n",
       "...                ...         ...  ...      ...\n",
       "1014341   204282at2759  GO:0003690    F      IEA\n",
       "1014342   204282at2759  GO:0006355    P      IEA\n",
       "1014419   754103at2759  GO:0004555    F      IEA\n",
       "1014420   754103at2759  GO:0005991    P      IEA\n",
       "1014421   754103at2759  GO:0006397    P      IEA\n",
       "\n",
       "[39191 rows x 4 columns]"
      ]
     },
     "execution_count": 11,
     "metadata": {},
     "output_type": "execute_result"
    }
   ],
   "source": [
    "ogunigo = pd.read_table('../../og_uni_go_Eukaryota_experimental_filt.tsv')\n",
    "ogunigo[ogunigo['og'].isin(ogs)].to_csv('../../og_uni_go_Eukaryota_experimental_filt.tsv'.replace('.tsv', '_mini.tsv', sep='\\t', index=None)\n",
    "                                        \n",
    "                                        \n",
    "                                        \n",
    "                                        "
   ]
  },
  {
   "cell_type": "code",
   "execution_count": null,
   "id": "b4e333a2-e626-4324-8d5b-9f71dab87d68",
   "metadata": {},
   "outputs": [],
   "source": []
  },
  {
   "cell_type": "markdown",
   "id": "e4e602a0-b2e9-4891-8f75-5414df84e7f6",
   "metadata": {},
   "source": [
    "## PyGOSemSim"
   ]
  },
  {
   "cell_type": "code",
   "execution_count": null,
   "id": "0ed4d726-89e1-456b-aa2b-3168c74137f6",
   "metadata": {},
   "outputs": [],
   "source": [
    "try:\n",
    "    download.obo(\"go-basic\")\n",
    "    download.download(\"goslim_chembl.obo\",\n",
    "        \"http://www.geneontology.org/ontology/subsets/goslim_chembl.obo\")\n",
    "    G = graph.from_resource(\"go-basic\")\n",
    "    G_chembl = graph.from_resource(\"goslim_chembl\")\n",
    "    similarity.precalc_lower_bounds(G)\n",
    "except ValueError:\n",
    "    pass\n",
    "\n",
    "def calcsim(indexgo1go2):\n",
    "    try:\n",
    "        sf = functools.partial(term_set.sim_func, G, similarity.resnik)\n",
    "        si = term_set.sim_bma(indexgo1go2[1], indexgo1go2[2], sf)\n",
    "    except:\n",
    "        si = 0\n",
    "    return [indexgo1go2[0], si]\n",
    "\n",
    "oggo_df = pd.read_table(f\"{transitions_file}.unigo.experimental.filt\")\n",
    "oggo = dict(oggo_df.groupby('og')['go'].apply(lambda x: list(set(x))).reset_index().values)\n",
    "oggo_bp = dict(oggo_df[oggo_df['type']=='P'].groupby('og')['go'].apply(lambda x: list(set(x))).reset_index().values)\n",
    "oggo_cc = dict(oggo_df[oggo_df['type']=='C'].groupby('og')['go'].apply(lambda x: list(set(x))).reset_index().values)\n",
    "oggo_mf = dict(oggo_df[oggo_df['type']=='F'].groupby('og')['go'].apply(lambda x: list(set(x))).reset_index().values)\n",
    "dfs = []\n",
    "for OGGO, typ in zip([oggo_bp, oggo_cc, oggo_mf],\n",
    "                     ['BP', 'CC', 'MF']):\n",
    "    oggo_df = transitions[['og1','og2']].applymap(lambda x: OGGO.get(x)).reset_index()\n",
    "    oggo_df.columns = ['index','go1', 'go2']\n",
    "    oggo_df = oggo_df.dropna()\n",
    "    simscore = Pool(500).map(calcsim, oggo_df.values.tolist())\n",
    "    simscore = dict(simscore)\n",
    "    oggo_df['simscore'] = oggo_df['index'].apply(lambda x: simscore.get(x))\n",
    "    oggo_df = oggo_df.drop('index', axis=1)\n",
    "    oggo_df = oggo_df.reset_index(drop=True).rename(columns={'simscore':f'{typ.lower()}sim', \n",
    "                                                                          'go1':f'go1_{typ.lower()}', \n",
    "                                                                          'go2':f'go2_{typ.lower()}'})\n",
    "    oggo_df[f'len_go1_{typ.lower()}'] = oggo_df[f'go1_{typ.lower()}'].apply(len)\n",
    "    oggo_df[f'len_go2_{typ.lower()}'] = oggo_df[f'go2_{typ.lower()}'].apply(len)\n",
    "    dfs.append(pd.concat([transitions.loc[list(simscore.keys())].reset_index(drop=True), oggo_df], axis=1))\n",
    "total = (dfs[0]\n",
    " .merge(dfs[1], how='outer')\n",
    " .merge(dfs[2], how='outer')\n",
    ")\n",
    "total.to_csv(f\"{transitions_file}.unigo.experimental.pygosemsim\", sep='\\t', index=False)"
   ]
  },
  {
   "cell_type": "code",
   "execution_count": null,
   "id": "53d0c8c0-e22a-4ebb-97bd-70d1fa81b12c",
   "metadata": {},
   "outputs": [],
   "source": []
  },
  {
   "cell_type": "code",
   "execution_count": null,
   "id": "8162850e-167b-4fc7-98f6-cec864b82c1c",
   "metadata": {},
   "outputs": [],
   "source": []
  },
  {
   "cell_type": "code",
   "execution_count": null,
   "id": "dee58984-3ab1-4d15-a640-d4ab1226ed09",
   "metadata": {},
   "outputs": [],
   "source": []
  },
  {
   "cell_type": "code",
   "execution_count": null,
   "id": "ac5326d8-412a-4095-987f-5de748ca4669",
   "metadata": {},
   "outputs": [],
   "source": []
  },
  {
   "cell_type": "code",
   "execution_count": null,
   "id": "116c708f-41f6-48a8-9c0b-f2a0cf3c0013",
   "metadata": {},
   "outputs": [],
   "source": []
  },
  {
   "cell_type": "code",
   "execution_count": null,
   "id": "b32e1b09-fb40-4863-b52e-c54fbcd23981",
   "metadata": {},
   "outputs": [],
   "source": []
  },
  {
   "cell_type": "code",
   "execution_count": null,
   "id": "65242c2b-9f93-437c-8671-e7f4bdcfddfd",
   "metadata": {},
   "outputs": [],
   "source": []
  },
  {
   "cell_type": "code",
   "execution_count": null,
   "id": "f8dbb2e0-2239-4270-aae7-7881774a60ea",
   "metadata": {
    "tags": []
   },
   "outputs": [],
   "source": []
  },
  {
   "cell_type": "code",
   "execution_count": null,
   "id": "7d7f2b86-5860-45b2-b998-9e9e4f54c272",
   "metadata": {},
   "outputs": [],
   "source": []
  },
  {
   "cell_type": "code",
   "execution_count": null,
   "id": "90f65b22-b70a-4ad9-a877-524d53e2d5fe",
   "metadata": {},
   "outputs": [],
   "source": []
  },
  {
   "cell_type": "code",
   "execution_count": null,
   "id": "c860a7fb-997f-4227-9ea6-ea9be1c1641c",
   "metadata": {},
   "outputs": [],
   "source": []
  }
 ],
 "metadata": {
  "kernelspec": {
   "display_name": "Python 3 (ipykernel)",
   "language": "python",
   "name": "python3"
  },
  "language_info": {
   "codemirror_mode": {
    "name": "ipython",
    "version": 3
   },
   "file_extension": ".py",
   "mimetype": "text/x-python",
   "name": "python",
   "nbconvert_exporter": "python",
   "pygments_lexer": "ipython3",
   "version": "3.10.6"
  },
  "toc-autonumbering": true
 },
 "nbformat": 4,
 "nbformat_minor": 5
}
