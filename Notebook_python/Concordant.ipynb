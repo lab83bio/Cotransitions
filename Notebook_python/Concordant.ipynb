{
 "cells": [
  {
   "cell_type": "markdown",
   "id": "b3b71b12-154f-4a91-8791-9efd76c580df",
   "metadata": {},
   "source": [
    "# Import and variables"
   ]
  },
  {
   "cell_type": "code",
   "execution_count": 1,
   "id": "565ccc63-6c12-4cf6-9921-f958ff2ae29b",
   "metadata": {},
   "outputs": [],
   "source": [
    "import warnings\n",
    "warnings.filterwarnings('ignore')\n",
    "\n",
    "import re\n",
    "import os\n",
    "import io\n",
    "import sys\n",
    "import json\n",
    "import tqdm\n",
    "import math\n",
    "import pickle\n",
    "import urllib\n",
    "import operator\n",
    "import requests\n",
    "import textwrap\n",
    "import functools\n",
    "import traceback\n",
    "import itertools\n",
    "import matplotlib\n",
    "import contextlib\n",
    "import numpy as np\n",
    "import pandas as pd\n",
    "from Bio import SeqIO\n",
    "import seaborn as sns\n",
    "import networkx as nx\n",
    "import plotly.express as px\n",
    "from functools import reduce\n",
    "import matplotlib.pyplot as plt\n",
    "\n",
    "from multiprocessing import Pool\n",
    "\n",
    "from scipy import stats\n",
    "from sklearn.preprocessing import minmax_scale\n",
    "\n",
    "from pygosemsim import graph\n",
    "from pygosemsim import download\n",
    "from pygosemsim import term_set\n",
    "from pygosemsim import similarity\n",
    "\n",
    "from utilities.funcs import *\n",
    "\n",
    "cwd = os.getcwd()\n",
    "main_dir = 'testzenodo'\n",
    "os.chdir(main_dir)\n",
    "\n",
    "imgformat = 'pdf'"
   ]
  },
  {
   "cell_type": "markdown",
   "id": "f861bde7-ddf6-429b-ae27-fa826d61684d",
   "metadata": {},
   "source": [
    "## Variables"
   ]
  },
  {
   "cell_type": "code",
   "execution_count": 2,
   "id": "f2590e5d-4940-4c45-9b3b-01845677bcb3",
   "metadata": {
    "tags": []
   },
   "outputs": [],
   "source": [
    "goslim_subset = 'goslim_generic'\n",
    "level = 'at2759'\n",
    "gosource = 'experimental' # experimental, all or odb\n",
    "\n",
    "odb_levels = 'https://v101.orthodb.org/download/odb10v1_levels.tab.gz'\n",
    "levels = pd.read_table(odb_levels, compression='gzip', header=None)\n",
    "levels[0] = levels[0].apply(lambda x: f'at{x}')\n",
    "levels = dict(levels[[0,1]].values.tolist())\n",
    "levelname = levels.get(level)\n",
    "goaspects = ('P','C','F')"
   ]
  },
  {
   "cell_type": "markdown",
   "id": "073d0aa4-7d79-418c-9c0d-ad41528d81e1",
   "metadata": {},
   "source": [
    "## File paths"
   ]
  },
  {
   "cell_type": "code",
   "execution_count": 3,
   "id": "191a99ad-ecb0-4a06-9c3f-c9efa05b654b",
   "metadata": {
    "tags": []
   },
   "outputs": [],
   "source": [
    "# LINKS\n",
    "zenodo_link = 'https://zenodo.org/record/7578797/files/' # or ''\n",
    "odb_og2genes = 'https://v101.orthodb.org/download/odb10v1_OG2genes.tab.gz'\n",
    "odb_genexrefs = 'https://v101.orthodb.org/download/odb10v1_gene_xrefs.tab.gz'\n",
    "\n",
    "# INFILES\n",
    "\n",
    "\n",
    "transitions_file = 'Eukaryota.raxml.RL.transitions.annotated'\n",
    "clusters_raw_file = 'intersection.Eukaryota.raxml.RL.clusters.annotated'\n",
    "rlcsv = 'Eukaryota.raxml.RL.csv'\n",
    "\n",
    "if zenodo_link:\n",
    "    \n",
    "    transitions_file = zenodo_link+'Eukaryota.raxml.RL.transitions.annotated'\n",
    "    clusters_raw_file = zenodo_link+'intersection.Eukaryota.raxml.RL.clusters.annotated'\n",
    "    rlcsv = zenodo_link+'Eukaryota.raxml.RL.csv'\n",
    "    \n",
    "    !wget -q {clusters_raw_file}\n",
    "    \n",
    "# OUTFILES\n",
    "\n",
    "clusters_file = f'{os.path.basename(clusters_raw_file)}.grouped'\n",
    "allogs_file = f\"{os.path.basename(transitions_file)}.ogs\"\n",
    "\n",
    "oguni_file = f'og_uni_{levelname}.tsv'\n",
    "unigo_file = f'{os.path.basename(transitions_file)}.unigo'\n",
    "oggo_file = f'{unigo_file}.{gosource}'\n",
    "odbfile = f'{os.path.basename(transitions_file)}.odb.pickle'\n",
    "odb_clusters_file = f'{clusters_file}.odb'\n",
    "\n",
    "goobo_file = f'go.obo'\n",
    "\n",
    "kegg_file = f'{os.path.basename(transitions_file)}.odb'\n",
    "goslim_file = f'{oggo_file}.slim'\n",
    "scores_file = f'{clusters_file}.{gosource}.scores'\n",
    "boxcox_file = f\"{oggo_file}.slim.boxcox\"\n",
    "\n",
    "pygosemsim_file = f'{os.path.basename(oggo_file)}.pygosemsim'\n",
    "\n",
    "goslim_subset = 'goslim_generic.obo'\n",
    "goslim_annotation = 'annotations.generic'"
   ]
  },
  {
   "cell_type": "markdown",
   "id": "fa193828-2443-49c1-a7ad-bb462800ae29",
   "metadata": {},
   "source": [
    "# Process input files"
   ]
  },
  {
   "cell_type": "code",
   "execution_count": 4,
   "id": "6092e5fc-4900-4408-8350-ee0299329b65",
   "metadata": {},
   "outputs": [],
   "source": [
    "ognames = pd.read_table(rlcsv)\n",
    "ognames = dict(ognames[['Orthogroup','Description']].values)\n",
    "\n",
    "trans = pd.read_table(transitions_file)\n",
    "trans['ogname1'] = trans['Orthogroup1'].apply(lambda x: ognames.get(x))\n",
    "trans['ogname2'] = trans['Orthogroup2'].apply(lambda x: ognames.get(x))\n",
    "trans = trans.dropna()\n",
    "trans['ognames'] = trans.apply(lambda x: x['ogname1']+' --- '+x['ogname2'], axis=1)\n",
    "trans = trans.drop(['ogname1','ogname2'], axis=1)\n",
    "trans.to_csv(os.path.basename(transitions_file), sep='\\t', index=None)\n",
    "    \n",
    "# processing raw clusters file --> dataframe\n",
    "clustersfromann(os.path.basename(clusters_raw_file), level).to_csv(clusters_file, sep='\\t', index=None)\n",
    "\n",
    "# all ogs list\n",
    "transitionsogs = transitionstoogs(os.path.basename(transitions_file))\n",
    "allogsdf = transitionsogs[['og','ogname']]\n",
    "allogsdf.columns = ['og','name']\n",
    "allogsdf.to_csv(allogs_file, sep='\\t', index=None)"
   ]
  },
  {
   "cell_type": "markdown",
   "id": "88ef1794-273e-41cd-9623-f601274e64f0",
   "metadata": {},
   "source": [
    "# OrthoDB Annotations `ETA: ~1h`"
   ]
  },
  {
   "cell_type": "code",
   "execution_count": 5,
   "id": "724a3f2d-5f28-4da0-a5c2-8a039bbee01f",
   "metadata": {},
   "outputs": [],
   "source": [
    "download per each orthogroup all available databases annotations from orthodb\n",
    "!python3 {cwd}/utilities/oginfo.py -i {allogs_file} -o {odbfile} -p 100"
   ]
  },
  {
   "cell_type": "code",
   "execution_count": 88,
   "id": "007396a5-b3bc-4dda-b334-dcc4b64e322b",
   "metadata": {},
   "outputs": [
    {
     "name": "stderr",
     "output_type": "stream",
     "text": [
      "100%|██████████| 46954/46954 [01:43<00:00, 452.57it/s]\n"
     ]
    }
   ],
   "source": [
    "odbinfos = dict(pickle.load(open(odbfile, 'rb')))\n",
    "\n",
    "# and store them in a dataframe\n",
    "dfs = []\n",
    "for o in tqdm.tqdm(odbinfos.keys()):\n",
    "    data = odbinfos.get(o)\n",
    "    if len(data)>0:\n",
    "        data = data['data']\n",
    "        keys = [k for k in data.keys() if type(data.get(k)) == list]\n",
    "        if len(keys)>0:\n",
    "            dfs.append(pd.concat([pd.json_normalize(data.get(k)).assign(db=k) \n",
    "                            for k in keys]).assign(og=o))\n",
    "\n",
    "dfsodbinfo = pd.concat(dfs).drop(['name','type','count'], \n",
    "                          axis=1).reset_index(drop=True)"
   ]
  },
  {
   "cell_type": "markdown",
   "id": "61f0d6e1-fff1-41e4-9302-1c1413b39bae",
   "metadata": {},
   "source": [
    "# GO"
   ]
  },
  {
   "cell_type": "markdown",
   "id": "a253ea1b-6ea9-4683-9b88-3f0cb437eea6",
   "metadata": {},
   "source": [
    "## mapping all GO from UniProt `ETA: ~1h`"
   ]
  },
  {
   "cell_type": "code",
   "execution_count": null,
   "id": "238c828c-df74-43b5-ba7a-4b200706ca6b",
   "metadata": {
    "tags": []
   },
   "outputs": [],
   "source": [
    "!curl -L https://ftp.ebi.ac.uk/pub/databases/GO/goa/old/UNIPROT/goa_uniprot_all.gaf.211.gz -o goa_uniprot_all.gaf.gz\n",
    "\n",
    "goa = 'goa_uniprot_all.gaf.gz'\n",
    "xref = pd.read_table(odb_og2genes, compression='gzip', header=None)\n",
    "og2genes = pd.read_table(odb_genexrefs, compression='gzip', header=None)\n",
    "og2genes = og2genes[og2genes[2]=='UniProt']\n",
    "merged = pd.merge(og2genes, xref.rename(columns={0:3,1:0}))\n",
    "merged2 = merged[merged[3].str.endswith(level)]\n",
    "merged2.columns = ['gene','id','db','og']\n",
    "merged2.to_csv(oguni_file, sep='\\t', index=None) # og_uni_Eukaryota.tsv\n",
    "\n",
    "!python3 {cwd}/utilities/oguni2chunk.py {goa} {oguni_file} {unigo_file} 20"
   ]
  },
  {
   "cell_type": "markdown",
   "id": "777e3a0b-9753-4050-a91b-68c8425f8360",
   "metadata": {},
   "source": [
    "## Filter on gosource"
   ]
  },
  {
   "cell_type": "code",
   "execution_count": 7,
   "id": "8bd64a8e-de89-4de9-a12d-5c9a322a74f6",
   "metadata": {},
   "outputs": [],
   "source": [
    "ratio = 0.0 ## remove GO term less then ratio percent of the most frequent term for each OG for each aspect\n",
    "\n",
    "if gosource == 'all':\n",
    "    oggo = pd.read_table(unigo_file)\n",
    "    oggo = oggo[oggo['ratio']>=ratio]\n",
    "    oggo[~oggo['go'].isin(['GO:0008150', 'GO:0005575', 'GO:0003674','GO:0005515'])\n",
    "        ].to_csv(oggo_file, \n",
    "                 sep ='\\t', index=False)\n",
    "\n",
    "elif gosource =='experimental':    \n",
    "    oggo = pd.read_table(unigo_file)\n",
    "    # ex = ['IDA', 'IMP', 'IPI', 'IEP', 'IGI']\n",
    "    ex = ['EXP','IDA', 'IMP', 'IPI', 'IEP', 'IGI',\n",
    "          'HTP','HDA','HMP','HGI','HEP','IC','TAS']\n",
    "    ############################\n",
    "    oggo['evidence'] = oggo['evidence'].apply(eval)\n",
    "    oggo['uni'] = oggo['uni'].apply(eval)\n",
    "    oggo = oggo.reset_index().set_index(['index']).apply(pd.Series.explode)\n",
    "    oggo = oggo[oggo['evidence'].isin(ex)]\n",
    "    oggo = oggo[oggo['ratio']>=ratio]\n",
    "    oggo = oggo[~oggo['go'].isin(['GO:0008150', 'GO:0005575', 'GO:0003674', 'GO:0005515'])]\n",
    "    evi_uni = pd.merge(oggo.groupby(['og', 'go'])['evidence'].apply(list).reset_index(),\n",
    "                     oggo.groupby(['og', 'go'])['uni'].apply(list).reset_index())\n",
    "    oggo = evi_uni.merge(oggo.drop(['evidence', 'uni'], axis=1), on=['og', 'go'])\n",
    "    oggo.to_csv(oggo_file, \n",
    "                 sep ='\\t', index=False)\n",
    "    ############################\n",
    "#     oggo = oggo[oggo['evidence'].str.contains('|'.join(ex))]\n",
    "#     oggo = oggo[oggo['ratio']>=ratio]\n",
    "#     oggo[~oggo['go'].isin(['GO:0008150', 'GO:0005575', 'GO:0003674', 'GO:0005515'])\n",
    "#         ].to_csv(oggo_file, \n",
    "#                  sep ='\\t', index=False)\n",
    "\n",
    "if gosource == 'odb':\n",
    "\n",
    "    dfs = dfsodbinfo[['og', 'id', 'db']]\n",
    "    dfs['evidence'] = 'ODB'\n",
    "    dfss = dfs[dfs['db'].str.contains('_')][dfs['id'].str.contains('GO')]\n",
    "    dfss['db'] = dfss['db'].apply(lambda x: x.split('_')[1][0].upper())\n",
    "    dfss.columns = ['og','go','type','evidence']\n",
    "    dfss.to_csv(oggo_file, sep='\\t', index=None)"
   ]
  },
  {
   "cell_type": "code",
   "execution_count": 14,
   "id": "f5e3c381-5125-4aac-98ea-27348126f799",
   "metadata": {},
   "outputs": [],
   "source": [
    "\n",
    "    "
   ]
  },
  {
   "cell_type": "markdown",
   "id": "e4e602a0-b2e9-4891-8f75-5414df84e7f6",
   "metadata": {
    "tags": []
   },
   "source": [
    "## PyGOSemSim `ETA: ~30 min`"
   ]
  },
  {
   "cell_type": "code",
   "execution_count": 21,
   "id": "0ed4d726-89e1-456b-aa2b-3168c74137f6",
   "metadata": {},
   "outputs": [
    {
     "name": "stdout",
     "output_type": "stream",
     "text": [
      "Download started: http://www.geneontology.org/ontology/subsets/goslim_chembl.obo\n",
      "Downloaded 0.3MB of 0.3MB (100.0 %)\n",
      "Download finished: goslim_chembl.obo (0.3) MB\n",
      "format-version: 1.2\n",
      "format-version: 1.2\n"
     ]
    }
   ],
   "source": [
    "processes = 500\n",
    "\n",
    "# download GO network graph and build it\n",
    "try:\n",
    "    download.obo(\"go-basic\")\n",
    "except ValueError:\n",
    "    pass\n",
    "download.download(\"goslim_chembl.obo\",\n",
    "    \"http://www.geneontology.org/ontology/subsets/goslim_chembl.obo\")\n",
    "G = graph.from_resource(\"go-basic\")\n",
    "G_chembl = graph.from_resource(\"goslim_chembl\")\n",
    "similarity.precalc_lower_bounds(G)\n",
    "\n",
    "def calcsim(indexgo1go2):\n",
    "    ''' given two set of GOs calculates the similarity score using the Resnik approach '''\n",
    "    try:\n",
    "        sf = functools.partial(term_set.sim_func, \n",
    "                               G, similarity.resnik)\n",
    "        si = term_set.sim_bma(indexgo1go2[1], \n",
    "                              indexgo1go2[2], sf)\n",
    "    except:\n",
    "        si = 0\n",
    "    return [indexgo1go2[0], si]\n",
    "\n",
    "# open transitions file and GO file and\n",
    "transitions = pd.read_table(os.path.basename(transitions_file))\n",
    "oggo_df = pd.read_table(oggo_file)\n",
    "# separate the three GO aspect\n",
    "oggo = dict(oggo_df.groupby('og')['go'].apply(\n",
    "    lambda x: list(set(x))).reset_index().values)\n",
    "oggo_bp = dict(oggo_df[oggo_df['type']=='P'].groupby('og')[\n",
    "    'go'].apply(lambda x: list(set(x))).reset_index().values)\n",
    "oggo_cc = dict(oggo_df[oggo_df['type']=='C'].groupby('og')[\n",
    "    'go'].apply(lambda x: list(set(x))).reset_index().values)\n",
    "oggo_mf = dict(oggo_df[oggo_df['type']=='F'].groupby('og')[\n",
    "    'go'].apply(lambda x: list(set(x))).reset_index().values)\n",
    "\n",
    "dfs = []\n",
    "for OGGO, typ in zip([oggo_bp, oggo_cc, oggo_mf],\n",
    "                     ['BP', 'CC', 'MF']):\n",
    "    # group pairs of orthogroups GOs\n",
    "    oggo_df = transitions[['Orthogroup1','Orthogroup2']].applymap(\n",
    "        lambda x: OGGO.get(x)).reset_index()\n",
    "    oggo_df.columns = ['index','go1', 'go2']\n",
    "    oggo_df = oggo_df.dropna()\n",
    "    # calculate the similarity score\n",
    "    simscore = Pool(processes).map(calcsim, oggo_df.values.tolist())\n",
    "    simscore = dict(simscore)\n",
    "    oggo_df['simscore'] = oggo_df['index'].apply(\n",
    "        lambda x: simscore.get(x))\n",
    "    oggo_df = oggo_df.drop('index', axis=1)\n",
    "    # renaming columns\n",
    "    oggo_df = oggo_df.reset_index(drop=True).rename(\n",
    "        columns={'simscore':f'{typ.lower()}sim', \n",
    "                 'go1':f'go1_{typ.lower()}', \n",
    "                 'go2':f'go2_{typ.lower()}'})\n",
    "    oggo_df[f'len_go1_{typ.lower()}'] = oggo_df[\n",
    "        f'go1_{typ.lower()}'].apply(len)\n",
    "    oggo_df[f'len_go2_{typ.lower()}'] = oggo_df[\n",
    "        f'go2_{typ.lower()}'].apply(len)\n",
    "    dfs.append(pd.concat([transitions.loc[\n",
    "        list(simscore.keys())].reset_index(drop=True), \n",
    "                          oggo_df], axis=1))\n",
    "\n",
    "# store all the informations in a file.pygosemsim\n",
    "total = (dfs[0]\n",
    " .merge(dfs[1], how='outer')\n",
    " .merge(dfs[2], how='outer')\n",
    ")\n",
    "total.to_csv(pygosemsim_file, sep='\\t', index=False)"
   ]
  },
  {
   "cell_type": "code",
   "execution_count": 27,
   "id": "b547ba38-7973-47af-8776-586268e361b8",
   "metadata": {},
   "outputs": [
    {
     "data": {
      "text/plain": [
       "'Eukaryota.raxml.RL.transitions.annotated.unigo.experimental'"
      ]
     },
     "execution_count": 27,
     "metadata": {},
     "output_type": "execute_result"
    }
   ],
   "source": [
    "oggo_file"
   ]
  },
  {
   "cell_type": "markdown",
   "id": "7172834c-3f2f-4c2c-b90c-e1d379e0e166",
   "metadata": {},
   "source": [
    "### Figure 3A"
   ]
  },
  {
   "cell_type": "code",
   "execution_count": 22,
   "id": "dee58984-3ab1-4d15-a640-d4ab1226ed09",
   "metadata": {},
   "outputs": [],
   "source": [
    "df = pd.read_table(pygosemsim_file)\n",
    "\n",
    "# set up a progressive pvalue cutoffs list (one for each step)\n",
    "ths = list(reversed(list(map(lambda x: 10**(-x/100), \n",
    "                             range(0,2000,100)))[3:]))[:-1]\n",
    "# separate the entire set in chunks using the pvalue cutoffs\n",
    "chunks, ts = [],[]\n",
    "for n, t in   enumerate(ths):\n",
    "    if n == 0:\n",
    "        chunk = df[df['p']<=t]\n",
    "    elif n == len(ths)-1:\n",
    "        chunk = df[df['p']>t]\n",
    "    else:\n",
    "        try:\n",
    "            chunk = df[df['p'].between(t, ths[n+1], inclusive='left')]\n",
    "        except:\n",
    "            pass\n",
    "    chunks.append(chunk)\n",
    "    ts.append(\"{:.0e}\".format(t))\n",
    "\n",
    "# build the dataframe for the next cell (scatter plot)\n",
    "n = 0\n",
    "columns = df.columns[df.columns.str.contains('sim')]\n",
    "# lens = list(map(lambda x: len(x), chunks))*len(columns)\n",
    "lens = [[len(chunks[ii][(chunks[ii][f\"len_go1_bpsim\".replace('sim', '')]>=n)&\n",
    "             (chunks[ii][f\"len_go2_bpsim\".replace('sim', '')]>=n)\n",
    "                       ].dropna(subset=['bpsim'])), \n",
    "         len(chunks[ii][(chunks[ii][f\"len_go1_ccsim\".replace('sim', '')]>=n)&\n",
    "             (chunks[ii][f\"len_go2_ccsim\".replace('sim', '')]>=n)\n",
    "                       ].dropna(subset=['ccsim'])), \n",
    "         len(chunks[ii][(chunks[ii][f\"len_go1_mfsim\".replace('sim', '')]>=n)&\n",
    "             (chunks[ii][f\"len_go2_mfsim\".replace('sim', '')]>=n)\n",
    "                       ].dropna(subset=['mfsim']))] \n",
    "        for ii in range(len(chunks))]\n",
    "\n",
    "lens = list(itertools.chain(*pd.DataFrame(lens).T.values.tolist()))\n",
    "\n",
    "scatter, line = [], []\n",
    "\n",
    "for column in columns:\n",
    "    name = column.rstrip('sim').upper()\n",
    "    # # c = 100\n",
    "    df1 = df[(df[f\"len_go1_{column}\".replace('sim', '')]>=n)&\n",
    "             (df[f\"len_go2_{column}\".replace('sim', '')]>=n)]\n",
    "    # calculate the fraction > mean score of each chunk\n",
    "    ser = pd.Series([len(d[d[column]>=df1[column].mean()][\n",
    "        (d[f\"len_go1_{column}\".replace('sim', '')]>=n)&\n",
    "             (d[f\"len_go2_{column}\".replace('sim', '')]>=n)])\n",
    "                     /len(d[(d[f\"len_go1_{column}\".replace('sim', '')]>=n)&\n",
    "             (d[f\"len_go2_{column}\".replace('sim', '')]>=n)\n",
    "                           ].dropna(subset=[column]))#len(d)\n",
    "                     if len(d) != 0 else 0 \n",
    "                     for d in chunks]).reset_index()\n",
    "    \n",
    "    ser['type'] = name\n",
    "    ser['slices'] = ts\n",
    "    scatter.append(ser)\n",
    "\n",
    "lab = 'Fraction > mean score'\n",
    "data = pd.concat(scatter).reset_index(drop=True)\n",
    "data = data.rename(columns={0: lab})\n",
    "data['slices'] = data['slices'].astype(str)\n",
    "data['lengths'] = lens\n",
    "data.columns = ['Index','Fraction > mean score', \n",
    "                'GO class', 'Slice', 'Numerosity']\n",
    "# convert numerosity column values in log(numerosity) \n",
    "# for a better scatter plot readability\n",
    "data['Log(N)'] = data['Numerosity'].apply(lambda x: np.log10(x))"
   ]
  },
  {
   "cell_type": "code",
   "execution_count": 23,
   "id": "116c708f-41f6-48a8-9c0b-f2a0cf3c0013",
   "metadata": {},
   "outputs": [
    {
     "data": {
      "image/png": "[encoded data removed]",
      "text/plain": [
       "<Figure size 310x220 with 1 Axes>"
      ]
     },
     "metadata": {},
     "output_type": "display_data"
    }
   ],
   "source": [
    "save = True\n",
    "factor = 3.1/4\n",
    "\n",
    "# set up standard parameters for the plot\n",
    "plt.rcParams['axes.linewidth'] = 0.8\n",
    "plt.rcParams['lines.linewidth'] = 0.8\n",
    "plt.rcParams['font.size'] = 8\n",
    "plt.rcParams['xtick.labelsize'] = 6\n",
    "plt.rcParams['ytick.labelsize'] = 6\n",
    "plt.rcParams['legend.fontsize'] = 6\n",
    "\n",
    "# build the figure\n",
    "fig, ax = plt.subplots(figsize=(3.1, 2.2), dpi=100) \n",
    "\n",
    "# iterate for each GO aspect, assign them an order priority (zo) and color (col)\n",
    "for typ, col, zo in zip(['CC','BP','MF'],[(0.75,0.75,0),\n",
    "                                          (0,0.75,0.75),\n",
    "                                          (0.75,0,0.75)],\n",
    "                        [1,2,3]):\n",
    "\n",
    "    plt.plot(data[data['GO class']==typ]['Slice'], \n",
    "             data[data['GO class']==typ][lab], \n",
    "             label=typ, color=col, zorder=zo)\n",
    "    plt.scatter(data[data['GO class']==typ]['Slice'], \n",
    "                data[data['GO class']==typ][lab], \n",
    "                label=typ, color=col, linewidths=0,\n",
    "                sizes=[i*factor*i*factor*math.pi \n",
    "                       for i in data[data['GO class']==typ\n",
    "                                    ]['Log(N)']], zorder=zo)\n",
    "\n",
    "# convert the sizes in area for the scatter plot (for better readability)\n",
    "scatter = plt.scatter([0,1,2], [0,1,2], color=(1,1,1),\n",
    "                  sizes=[x*factor*x*factor*math.pi \n",
    "                         for x in (2,3,4)], zorder=0)\n",
    "\n",
    "# build the two legends, one for the GO aspect and the other for the log(N)\n",
    "handles, labels = ax.get_legend_handles_labels()\n",
    "hl = sorted(zip(handles, labels), key=operator.itemgetter(1))\n",
    "hl = [hl[0],hl[2],hl[4]]\n",
    "handles2, labels2 = zip(*hl)\n",
    "legend3 = ax.legend(handles2, labels2, loc=(0.7,0.65), \n",
    "                    title='GO aspect', frameon=False)\n",
    "\n",
    "handles, labels = scatter.legend_elements(\n",
    "    prop=\"sizes\", alpha=0.2, markeredgewidth=0)\n",
    "labels = [2,3,4]\n",
    "legend2 = ax.legend(handles, labels, loc=(0.73,0.23), \n",
    "                    title=\"Log(N)\", frameon=False)\n",
    "plt.gca().add_artist(legend3)\n",
    "\n",
    "# other plot adjustments\n",
    "plt.xticks(rotation=-45, ha=\"left\", rotation_mode=\"anchor\")\n",
    "ax.spines[['top', 'right']].set_visible(False)\n",
    "\n",
    "plt.xlabel(\"p-value (slice)\")\n",
    "plt.ylabel(\"$N_{score>mean}$ / N\")\n",
    "\n",
    "ax.set_xticklabels(labels=[\"$10^{-tag}$\".replace(\n",
    "    'tag', str(s).split('-')[1]) for s in \n",
    "                           data[data['GO class']==typ]['Slice']])\n",
    "\n",
    "plt.ylim(0.4,1)\n",
    "if save:\n",
    "    fig.tight_layout()\n",
    "    fig = ax.get_figure()\n",
    "    fig.savefig(f'{pygosemsim_file}.{imgformat}', dpi=300)"
   ]
  },
  {
   "cell_type": "markdown",
   "id": "eed0d94a-5ee4-4bd9-8e95-c3376177e3da",
   "metadata": {},
   "source": [
    "## GO SLIM"
   ]
  },
  {
   "cell_type": "code",
   "execution_count": 28,
   "id": "5820dc88-3fb7-487b-b8a4-cdd4d789a6de",
   "metadata": {},
   "outputs": [
    {
     "name": "stdout",
     "output_type": "stream",
     "text": [
      "  % Total    % Received % Xferd  Average Speed   Time    Time     Time  Current\n",
      "                                 Dload  Upload   Total   Spent    Left  Speed\n",
      "  0   316    0     0    0     0      0      0 --:--:-- --:--:-- --:--:--     0\n",
      "100 32.4M  100 32.4M    0     0   445k      0  0:01:14  0:01:14 --:--:--  423k\n",
      "  % Total    % Received % Xferd  Average Speed   Time    Time     Time  Current\n",
      "                                 Dload  Upload   Total   Spent    Left  Speed\n",
      "  0     0    0     0    0     0      0      0 --:--:-- --:--:-- --:--:--     0\n",
      "100 36.8M  100 36.8M    0     0  8054k      0  0:00:04  0:00:04 --:--:-- 11.3M\n"
     ]
    }
   ],
   "source": [
    "# download the entire GO network in .obo format\n",
    "!curl -L http://purl.obolibrary.org/obo/go.obo -o go.obo\n",
    "# download the slimming tool and give it the executing permissions\n",
    "!curl -L https://github.com/owlcollab/owltools/releases/download/2020-04-06/owltools -o owltools\n",
    "!chmod +x owltools"
   ]
  },
  {
   "cell_type": "code",
   "execution_count": 29,
   "id": "f8dbb2e0-2239-4270-aae7-7881774a60ea",
   "metadata": {
    "tags": []
   },
   "outputs": [],
   "source": [
    "# retrieve all GOs available from go.obo file\n",
    "mini, minimini = [], []\n",
    "for line in open(os.path.basename(goobo_file)).readlines()[29:]:\n",
    "    if line.startswith('id: GO'):\n",
    "        mini.append(minimini)\n",
    "        minimini = []\n",
    "    minimini.append(line)\n",
    "gos = pd.DataFrame([[m[0].strip().split('id: ')[1],\n",
    "                     m[1].strip().split('name: ')[1],\n",
    "                     m[2].strip().split('namespace: ')[1]] \n",
    "                    for m in mini[1:]]).drop_duplicates(0)\n",
    "gos = gos[~gos[1].str.contains('obsolete')]\n",
    "gos = gos.reset_index(drop=True).reset_index()\n",
    "gos.columns = ['index','go','goname','gotype']\n",
    "gos['gotype'] = gos['gotype'].apply(lambda x: \n",
    "                                    'P' if 'biological' in x else \n",
    "                                    'F' if 'molecular' in x else \n",
    "                                    'C' if 'component' in x else None)\n",
    "gonames = dict(gos[['go','goname']].values)\n",
    "gotypes = dict(gos[['go','gotype']].values)\n",
    "\n",
    "# GO -> GO slim using OWLTOOLS (https://github.com/owlcollab/owltools)\n",
    "def gostoslim(goobo, outfile, subset, gos):\n",
    "\n",
    "    print('!gaf-version: 2.0', file=open(outfile, 'w'))\n",
    "    for row in gos.values.tolist():\n",
    "        a = list(map(str, [' ']*16))\n",
    "        a[1], a[4] = str(row[0]), row[1]\n",
    "        print('\\t'.join(a), file=open(outfile, 'a'))\n",
    "\n",
    "    with contextlib.redirect_stdout(io.StringIO()):\n",
    "        !owltools {goobo} --gaf {outfile} --map2slim --subset {subset} --write-gaf {outfile}\n",
    "\n",
    "    slim = pd.read_table(outfile, comment='!', header=None)\n",
    "    slim = slim[[1,4]]\n",
    "    slim.columns = ['index','go']\n",
    "    slim['index'] = slim['index'].apply(lambda x: int(x[1:]))\n",
    "\n",
    "    return slim\n",
    "\n",
    "slim = gostoslim(os.path.basename(goobo_file), goslim_annotation, \n",
    "                 os.path.basename(goslim_subset.replace('.obo', '')\n",
    "                            ), gos).assign(db=goslim_subset)\n",
    "\n",
    "# re-mapping any missing goslim_generic to goslim_PIR (more specific)\n",
    "if 'generic' in goslim_subset:    \n",
    "    missing = pd.merge(gos.rename(columns={0:'go'}), \n",
    "                       slim.rename(columns={'go':'goslim'}),how='outer')\n",
    "    missing = missing[missing['goslim'].isna()][['index','go']]\n",
    "\n",
    "    slim_pir = gostoslim(os.path.basename(goobo_file), goslim_annotation.replace('.generic', '.pir'), \n",
    "                      os.path.basename(goslim_subset.replace(\n",
    "                          '_generic.obo', '_pir')), missing\n",
    "                     ).assign(db=goslim_subset.replace(\n",
    "        '_generic.obo', '_pir'))\n",
    "    final = pd.merge(gos, pd.concat(\n",
    "        [slim, slim_pir]).rename(\n",
    "        columns={'go':'goslim'}),on='index',how='outer').dropna()\n",
    "    final['goslimname'] = final['goslim'].apply(lambda x: gonames.get(x))\n",
    "    final['goslimtype'] = final['goslim'].apply(lambda x: gotypes.get(x))\n",
    "    slim = final\n",
    "\n",
    "slim = slim[['go','gotype','goname','goslim','goslimtype','goslimname','db']]\n",
    "slim.to_csv(f'{goslim_annotation}.tsv', index=None, sep='\\t')"
   ]
  },
  {
   "cell_type": "markdown",
   "id": "4cbf6d1b-4614-4863-a2ed-022fe3f474bb",
   "metadata": {},
   "source": [
    "### Orthogroups GO slim mapping"
   ]
  },
  {
   "cell_type": "code",
   "execution_count": 56,
   "id": "c860a7fb-997f-4227-9ea6-ea9be1c1641c",
   "metadata": {},
   "outputs": [
    {
     "data": {
      "text/plain": [
       "<AxesSubplot:ylabel='Frequency'>"
      ]
     },
     "execution_count": 56,
     "metadata": {},
     "output_type": "execute_result"
    },
    {
     "data": {
      "image/png": "[encoded data removed]",
      "text/plain": [
       "<Figure size 310x310 with 1 Axes>"
      ]
     },
     "metadata": {},
     "output_type": "display_data"
    }
   ],
   "source": [
    "ogunigo = pd.read_table(oggo_file)\n",
    "slim = pd.read_table(f'{goslim_annotation}.tsv')\n",
    "\n",
    "ogunigoslim = pd.merge(ogunigo, slim, how='outer'\n",
    "                      ).dropna().drop_duplicates()\n",
    "ogunigoslim.to_csv(f'{oggo_file}.slim', \n",
    "                  sep='\\t', index=None)\n",
    "\n",
    "transitionsogs = transitionstoogs(os.path.basename(transitions_file))\n",
    "goslim = pd.read_table(f'{oggo_file}.slim')\n",
    "\n",
    "singlego = pd.merge(transitionsogs, goslim, on='og')\n",
    "singlego = singlego.drop_duplicates([\n",
    "    'og','goname','goslimname'])\n",
    "\n",
    "# exclude macro GO classes\n",
    "# singlego = singlego[~singlego['goslim'].isin(['GO:0008150', 'GO:0005575', 'GO:0003674','GO:0005515'])]\n",
    "# 'protein binding'])] ######################################################################## rimosso anche protein binding, per fare una prova\n",
    "\n",
    "# transitions pvalue to -log10 pvalue\n",
    "singlego['log10pval'] = singlego['p'].apply(\n",
    "    lambda x: -np.log10(x))\n",
    "singlego['log10adjpval'] = singlego['p.adj'].apply(\n",
    "    lambda x: -np.log10(x))\n",
    "final = singlego.reset_index(drop=True).sort_values(\n",
    "   'log10pval', ascending=False)\n",
    "\n",
    "final['log10pvalscaled'] = minmax_scale(stats.boxcox(final['log10pval'].values, -0.5), feature_range=(-6,6))\n",
    "\n",
    "final.to_csv(f'{boxcox_file}', sep='\\t', index=None)\n",
    "\n",
    "final['log10pvalscaled'].plot.hist(bins=100, figsize=(3.1,3.1))\n"
   ]
  },
  {
   "cell_type": "markdown",
   "id": "02f3195e-b0b8-4e3d-bcfc-76427f2d11f7",
   "metadata": {},
   "source": [
    "### Orthogroup ranking files"
   ]
  },
  {
   "cell_type": "code",
   "execution_count": 58,
   "id": "b8b8c711-2792-4108-9b40-e1a8f81d3bff",
   "metadata": {
    "tags": []
   },
   "outputs": [],
   "source": [
    "# write a pval based ranking file containing orthogroups and their GO annotations\n",
    "for goclass in goaspects:\n",
    "    finalfilt = final[final['goslimtype']==goclass]\n",
    "    finalfilt = finalfilt[['og','log10pvalscaled',\n",
    "                           'goslim','goslimname',\n",
    "                           'ogname']]\n",
    "    finalfilt.columns = ['name','score','feature',\n",
    "                         'description','extraname']\n",
    "    finalfilt.drop_duplicates(['name','feature',\n",
    "                               'description']\n",
    "        ).to_csv(f\"{boxcox_file}.{goclass}.ranking\", \n",
    "                         sep='\\t', index=None)"
   ]
  },
  {
   "cell_type": "markdown",
   "id": "89d0cbbe-ae7e-467e-8117-59f5e6d0a10a",
   "metadata": {},
   "source": [
    "### GO Enrichment"
   ]
  },
  {
   "cell_type": "code",
   "execution_count": 59,
   "id": "dcb3c7ab-a1a5-4066-b37a-99116635ab02",
   "metadata": {
    "tags": []
   },
   "outputs": [
    {
     "name": "stdout",
     "output_type": "stream",
     "text": [
      "\n",
      "Registered S3 method overwritten by 'ggtree':\n",
      "  method      from \n",
      "  identify.gg ggfun\n",
      "clusterProfiler v4.2.0  For help: https://yulab-smu.top/biomedical-knowledge-mining-book/\n",
      "\n",
      "If you use clusterProfiler in published research, please cite:\n",
      "T Wu, E Hu, S Xu, M Chen, P Guo, Z Dai, T Feng, L Zhou, W Tang, L Zhan, X Fu, S Liu, X Bo, and G Yu. clusterProfiler 4.0: A universal enrichment tool for interpreting omics data. The Innovation. 2021, 2(3):100141\n",
      "\n",
      "Attaching package: ‘clusterProfiler’\n",
      "\n",
      "The following object is masked from ‘package:stats’:\n",
      "\n",
      "    filter\n",
      "\n",
      "\u001b[?25h\n",
      "Attaching package: ‘dplyr’\n",
      "\n",
      "The following objects are masked from ‘package:stats’:\n",
      "\n",
      "    filter, lag\n",
      "\n",
      "The following objects are masked from ‘package:base’:\n",
      "\n",
      "    intersect, setdiff, setequal, union\n",
      "\n",
      "\u001b[?25h\n",
      "Attaching package: ‘data.table’\n",
      "\n",
      "The following objects are masked from ‘package:dplyr’:\n",
      "\n",
      "    between, first, last\n",
      "\n",
      "\u001b[?25h\u001b[?25h\n",
      "Attaching package: ‘rlang’\n",
      "\n",
      "The following object is masked from ‘package:data.table’:\n",
      "\n",
      "    :=\n",
      "\n",
      "\u001b[?25h\u001b[?25h\u001b[?25h\u001b[?25h\u001b[?25h\u001b[?25h\u001b[?25h\u001b[?25h\u001b[?25h\u001b[?25h\u001b[?25h\u001b[?25h\u001b[?25hpreparing geneSet collections...\n",
      "GSEA analysis...\n",
      "leading edge analysis...\n",
      "done...\n",
      "Warning message:\n",
      "In fgseaMultilevel(...) :\n",
      "  There were 1 pathways for which P-values were not calculated properly due to unbalanced (positive and negative) gene-level statistic values. For such pathways pval, padj, NES, log2err are set to NA. You can try to increase the value of the argument nPermSimple (for example set it nPermSimple = 10000)\n",
      "\u001b[?25h[1] \"Eukaryota.raxml.RL.transitions.annotated.unigo.experimental.slim.boxcox.P.ranking.enriched\"\n",
      "\u001b[?25h\u001b[?25h\u001b[?25h\n",
      "Registered S3 method overwritten by 'ggtree':\n",
      "  method      from \n",
      "  identify.gg ggfun\n",
      "clusterProfiler v4.2.0  For help: https://yulab-smu.top/biomedical-knowledge-mining-book/\n",
      "\n",
      "If you use clusterProfiler in published research, please cite:\n",
      "T Wu, E Hu, S Xu, M Chen, P Guo, Z Dai, T Feng, L Zhou, W Tang, L Zhan, X Fu, S Liu, X Bo, and G Yu. clusterProfiler 4.0: A universal enrichment tool for interpreting omics data. The Innovation. 2021, 2(3):100141\n",
      "\n",
      "Attaching package: ‘clusterProfiler’\n",
      "\n",
      "The following object is masked from ‘package:stats’:\n",
      "\n",
      "    filter\n",
      "\n",
      "\u001b[?25h\n",
      "Attaching package: ‘dplyr’\n",
      "\n",
      "The following objects are masked from ‘package:stats’:\n",
      "\n",
      "    filter, lag\n",
      "\n",
      "The following objects are masked from ‘package:base’:\n",
      "\n",
      "    intersect, setdiff, setequal, union\n",
      "\n",
      "\u001b[?25h\n",
      "Attaching package: ‘data.table’\n",
      "\n",
      "The following objects are masked from ‘package:dplyr’:\n",
      "\n",
      "    between, first, last\n",
      "\n",
      "\u001b[?25h\u001b[?25h\n",
      "Attaching package: ‘rlang’\n",
      "\n",
      "The following object is masked from ‘package:data.table’:\n",
      "\n",
      "    :=\n",
      "\n",
      "\u001b[?25h\u001b[?25h\u001b[?25h\u001b[?25h\u001b[?25h\u001b[?25h\u001b[?25h\u001b[?25h\u001b[?25h\u001b[?25h\u001b[?25h\u001b[?25h\u001b[?25hpreparing geneSet collections...\n",
      "GSEA analysis...\n",
      "leading edge analysis...\n",
      "done...\n",
      "Warning message:\n",
      "In fgseaMultilevel(...) :\n",
      "  There were 1 pathways for which P-values were not calculated properly due to unbalanced (positive and negative) gene-level statistic values. For such pathways pval, padj, NES, log2err are set to NA. You can try to increase the value of the argument nPermSimple (for example set it nPermSimple = 10000)\n",
      "\u001b[?25h[1] \"Eukaryota.raxml.RL.transitions.annotated.unigo.experimental.slim.boxcox.C.ranking.enriched\"\n",
      "\u001b[?25h\u001b[?25h\u001b[?25h\n",
      "Registered S3 method overwritten by 'ggtree':\n",
      "  method      from \n",
      "  identify.gg ggfun\n",
      "clusterProfiler v4.2.0  For help: https://yulab-smu.top/biomedical-knowledge-mining-book/\n",
      "\n",
      "If you use clusterProfiler in published research, please cite:\n",
      "T Wu, E Hu, S Xu, M Chen, P Guo, Z Dai, T Feng, L Zhou, W Tang, L Zhan, X Fu, S Liu, X Bo, and G Yu. clusterProfiler 4.0: A universal enrichment tool for interpreting omics data. The Innovation. 2021, 2(3):100141\n",
      "\n",
      "Attaching package: ‘clusterProfiler’\n",
      "\n",
      "The following object is masked from ‘package:stats’:\n",
      "\n",
      "    filter\n",
      "\n",
      "\u001b[?25h\n",
      "Attaching package: ‘dplyr’\n",
      "\n",
      "The following objects are masked from ‘package:stats’:\n",
      "\n",
      "    filter, lag\n",
      "\n",
      "The following objects are masked from ‘package:base’:\n",
      "\n",
      "    intersect, setdiff, setequal, union\n",
      "\n",
      "\u001b[?25h\n",
      "Attaching package: ‘data.table’\n",
      "\n",
      "The following objects are masked from ‘package:dplyr’:\n",
      "\n",
      "    between, first, last\n",
      "\n",
      "\u001b[?25h\u001b[?25h\n",
      "Attaching package: ‘rlang’\n",
      "\n",
      "The following object is masked from ‘package:data.table’:\n",
      "\n",
      "    :=\n",
      "\n",
      "\u001b[?25h\u001b[?25h\u001b[?25h\u001b[?25h\u001b[?25h\u001b[?25h\u001b[?25h\u001b[?25h\u001b[?25h\u001b[?25h\u001b[?25h\u001b[?25h\u001b[?25hpreparing geneSet collections...\n",
      "GSEA analysis...\n",
      "leading edge analysis...\n",
      "done...\n",
      "\u001b[?25h[1] \"Eukaryota.raxml.RL.transitions.annotated.unigo.experimental.slim.boxcox.F.ranking.enriched\"\n",
      "\u001b[?25h\u001b[?25h\u001b[?25h"
     ]
    }
   ],
   "source": [
    "# enrichemnt analysis using clusterProfiler library in R (https://github.com/YuLab-SMU/clusterProfiler)\n",
    "for goclass in goaspects:\n",
    "    file = f\"{boxcox_file}.{goclass}.ranking\"\n",
    "    !Rscript {cwd}/utilities/enrich.R --input_file {file} --pval_cutoff 1"
   ]
  },
  {
   "cell_type": "markdown",
   "id": "98668802-6d7c-4197-8c3b-e10c52e97e26",
   "metadata": {},
   "source": [
    "### Figure 3B and supplementary figures S11"
   ]
  },
  {
   "cell_type": "code",
   "execution_count": 60,
   "id": "e9cc4786-2ee3-4ca4-801c-e1476b9a643b",
   "metadata": {},
   "outputs": [],
   "source": [
    "# buil personalized colormaps for project uniformity\n",
    "colorsfrommap = [plt.cm.jet(n)[0:3] for n in np.array(list(range(0,12)))/11]\n",
    "newcolors = np.array([(0.75,0.75,0,i/255) for i in range(255)])\n",
    "newcmp1 = matplotlib.colors.ListedColormap(newcolors)\n",
    "newcolors = np.array([(0,0.75,0.75,i/255) for i in range(255)])\n",
    "newcmp2 = matplotlib.colors.ListedColormap(newcolors)\n",
    "newcolors = np.array([(0.75,0,0.75,i/575) for i in range(255)])\n",
    "newcmp3 = matplotlib.colors.ListedColormap(newcolors)\n",
    "\n",
    "# define a set of parameters for project uniformity\n",
    "plt.rcParams['axes.linewidth'] = 0.8\n",
    "plt.rcParams['lines.linewidth'] = 0.8\n",
    "plt.rcParams['font.size'] = 8\n",
    "plt.rcParams['xtick.labelsize'] = 6\n",
    "plt.rcParams['ytick.labelsize'] = 6\n",
    "plt.rcParams['legend.fontsize'] = 6\n",
    "\n",
    "def plotenrichment(enrfile, rankfile, enrSize, colormap, title, \n",
    "                   pvalthreshold, genesizelimit, save=False, figsize=(4.2,4)):\n",
    "    \n",
    "    def customwrap(s, width=40):\n",
    "        ''' will add a \\n between defined string widths '''\n",
    "        return \"\\n\".join(textwrap.wrap(s,width=width))\n",
    "\n",
    "    df = pd.read_table(enrfile, sep=',').drop(\n",
    "        'Unnamed: 0', axis=1).dropna()\n",
    "\n",
    "    # pvalue cutoff\n",
    "    df = df[df['pvalue']<=pvalthreshold]\n",
    "    df = df.sort_values('NES', ascending=False)\n",
    "    df = pd.concat([df[df['NES']>=0].head(enrSize), df[df['NES']<0].tail(enrSize)])\n",
    "    df = df.reset_index(drop=True)\n",
    "    \n",
    "    # to abbreviate descriptions\n",
    "    df['Description'] = df['Description'].apply(\n",
    "        lambda x: 'nucleobase-cont. small mol. met. proc.' if 'nucleobase-containing small molecule metabolic process' in x \n",
    "        else 'gen. of precursor metabol. and energy' if 'generation of precursor metabolites and energy' in x\n",
    "        else x)\n",
    "    \n",
    "    df['Description'] = df['Description'].apply(lambda x: customwrap(x))\n",
    "\n",
    "    # extract core_enrichment orthogroups id and conversion in descriptions\n",
    "    df['core_enrichment'] = df['core_enrichment'].apply(lambda x: x.split('/'))\n",
    "    ognames = dict(pd.read_table(rankfile).drop_duplicates(\n",
    "        'name')[['name','extraname']].values)\n",
    "    df['core_enrichment_names'] = df['core_enrichment'].apply(\n",
    "        lambda x: [ognames.get(i) for i in x])\n",
    "    df['coreSize'] = df['core_enrichment'].apply(len)\n",
    "    # coresize upper bounds scaling\n",
    "    \n",
    "    genesizelimit = int(df['coreSize'].median())\n",
    "    if genesizelimit <= 50:\n",
    "        genesizelimit = genesizelimit-genesizelimit%10+10\n",
    "    else:\n",
    "        genesizelimit = genesizelimit-genesizelimit%50+50\n",
    "    # genesizelimit=300\n",
    "    df['coreSizenorm'] = df['coreSize'].apply(\n",
    "        lambda x: genesizelimit if x>=genesizelimit else x)\n",
    "    fig, (cax,ax) = plt.subplots(ncols=2, figsize=figsize, dpi=100, \n",
    "                                 gridspec_kw={'width_ratios':[0.05, 1]})\n",
    "\n",
    "    x = df['Description'].values\n",
    "    ##########\n",
    "    # x = df['Description'].values.tolist()+[' ','  ','   ']\n",
    "    ##########\n",
    "    # x = np.array(['nucleob.-containing small mol. metabolic process' \n",
    "    #               if 'nucleobase-containing small molecule metabolic process' \n",
    "    #               in i else i for i in x])\n",
    "    y = df['NES'].values\n",
    "    ##########\n",
    "    # y = df['NES'].values.tolist()+[0,0,0]\n",
    "    ##########\n",
    "    c = df['coreSizenorm'].values\n",
    "\n",
    "    colmap = colormap\n",
    "    colors1 = colmap(c/c.max())\n",
    "    sm = plt.cm.ScalarMappable(cmap=colmap, \n",
    "                               norm=plt.Normalize(vmin=c.min(), vmax=c.max()))\n",
    "\n",
    "    # build the core_enrichment color bar\n",
    "    cbar = plt.colorbar(sm, cax)\n",
    "    cbar.set_ticks(list(range(0,genesizelimit+1,int(genesizelimit/5))))\n",
    "    cbar.set_ticklabels(list(range(\n",
    "        0,genesizelimit,int(genesizelimit/5)))+[f'>{genesizelimit}'])\n",
    "    cbar.outline.set_linewidth(0.8)\n",
    "    cbar.set_label('core enrichment', loc='top', fontsize=6)\n",
    "\n",
    "    # other adjustments\n",
    "    ax.barh(x, y, color=colors1, edgecolor = colormap.colors[-1])\n",
    "    ax.yaxis.tick_right()\n",
    "    ax.tick_params(axis='both', which='major')\n",
    "    ax.spines['left'].set_visible(False)\n",
    "    ax.spines['top'].set_visible(False)\n",
    "    ax.spines[['right','bottom']]\n",
    "    ax.set_xlim(-5, 5)\n",
    "    ax.set_xlabel('NES')\n",
    "\n",
    "    cax.yaxis.tick_left()\n",
    "    cax.tick_params(axis='both', which='major')\n",
    "\n",
    "    plt.gca().invert_yaxis()\n",
    "    plt.show()\n",
    "    fig.tight_layout()\n",
    "\n",
    "    if save == True:\n",
    "        fig.savefig(f'{enrfile}.{imgformat}', dpi=300)"
   ]
  },
  {
   "cell_type": "code",
   "execution_count": 86,
   "id": "64d53780-3048-4310-82b4-6d5b232c18e2",
   "metadata": {},
   "outputs": [
    {
     "data": {
      "image/png": "[encoded data removed]",
      "text/plain": [
       "<Figure size 400x375 with 2 Axes>"
      ]
     },
     "metadata": {},
     "output_type": "display_data"
    },
    {
     "data": {
      "image/png": "[encoded data removed]",
      "text/plain": [
       "<Figure size 400x350 with 2 Axes>"
      ]
     },
     "metadata": {},
     "output_type": "display_data"
    },
    {
     "data": {
      "image/png": "[encoded data removed]",
      "text/plain": [
       "<Figure size 400x250 with 2 Axes>"
      ]
     },
     "metadata": {},
     "output_type": "display_data"
    }
   ],
   "source": [
    "pval = 0.001\n",
    "maxgr = 10\n",
    "save = True\n",
    "enrSize = 10\n",
    "\n",
    "for goclass in ['P','C','F']:\n",
    "    \n",
    "    rankfile = f\"{boxcox_file}.{goclass}.ranking\"\n",
    "    enrfile = f\"{rankfile}.enriched\"\n",
    "\n",
    "    figsize= (4,3.75) if goclass == 'P' else (4,2.5) if goclass == 'F' else (4,3.5) if goclass == 'C' else (4,4)\n",
    "    plotenrichment(enrfile, rankfile, enrSize, newcmp1 if goclass == 'C' \n",
    "                   else newcmp2 if goclass == 'P' else newcmp3, \n",
    "                   'NES BP' if goclass == 'P' else 'NES CC' \n",
    "                   if goclass == 'C' else 'NES MF', pval, maxgr, save, figsize=figsize)"
   ]
  },
  {
   "cell_type": "markdown",
   "id": "7850e4c8-ee01-4eae-b6de-dbad40752d3e",
   "metadata": {},
   "source": [
    "# KEGG"
   ]
  },
  {
   "cell_type": "code",
   "execution_count": 89,
   "id": "fce1b0b5-2093-4ee5-8f2d-851a2fe4a5df",
   "metadata": {},
   "outputs": [],
   "source": [
    "clusters = pd.read_table(clusters_file)\n",
    "\n",
    "# add orthodb annotations to each transitions\n",
    "transitionsogs = transitionstoogs(os.path.basename(transitions_file))\n",
    "odbtransitions = pd.merge(dfsodbinfo, transitionsogs, on='og')[['description','id','db','og','ogname']]\n",
    "\n",
    "odbtransitions = pd.merge(odbtransitions, clusters[['og','cluster']], on='og', how='outer')\n",
    "odbtransitions.to_csv(kegg_file, sep='\\t', index=None)\n",
    "\n",
    "# same to each clusters\n",
    "odbclusters = pd.merge(dfsodbinfo, clusters[['cluster','n','og','name']])[['description','id','db','og','name','cluster','n']]\n",
    "odbclusters.to_csv(odb_clusters_file, sep='\\t', index=None)"
   ]
  },
  {
   "cell_type": "markdown",
   "id": "04974417-b64c-4384-99cc-3d27b177aa2a",
   "metadata": {},
   "source": [
    "## Enrich KEGG"
   ]
  },
  {
   "cell_type": "code",
   "execution_count": 90,
   "id": "d41c4481-d406-44ad-8105-b543c42c3469",
   "metadata": {},
   "outputs": [
    {
     "data": {
      "text/plain": [
       "<AxesSubplot:ylabel='Frequency'>"
      ]
     },
     "execution_count": 90,
     "metadata": {},
     "output_type": "execute_result"
    },
    {
     "data": {
      "image/png": "[encoded data removed]",
      "text/plain": [
       "<Figure size 310x310 with 1 Axes>"
      ]
     },
     "metadata": {},
     "output_type": "display_data"
    }
   ],
   "source": [
    "transitionsogs = transitionstoogs(os.path.basename(transitions_file))\n",
    "\n",
    "# filter kegg ids (e.g. metabolism)\n",
    "filton = '00'\n",
    "# filter out KEGG macro classes\n",
    "filterkegg = ['Metabolic pathways']\n",
    "\n",
    "kegg = pd.read_table(kegg_file)\n",
    "kegg = kegg.drop_duplicates(['og','id'])\n",
    "kegg = kegg[(kegg['db'].str.contains('KEGG'))&~(kegg['description'].isin(filterkegg))]\n",
    "kegg = kegg[kegg['id'].apply(lambda x: re.split('(\\d+)', x)[1]).str.startswith(filton)] if filton else kegg\n",
    "\n",
    "transitionsogskegg = pd.merge(transitionsogs, kegg, on=['og'])\n",
    "transitionsogskegg['log10pval'] = transitionsogskegg['p'].apply(lambda x: -np.log10(x))\n",
    "transitionsogskegg['log10adjpval'] = transitionsogskegg['p.adj'].apply(lambda x: -np.log10(x))\n",
    "\n",
    "transitionsogskegg = transitionsogskegg.reset_index(drop=True).sort_values('log10pval', ascending=False)\n",
    "\n",
    "from scipy import stats\n",
    "from sklearn.preprocessing import minmax_scale\n",
    "transitionsogskegg['log10pvalscaled'] = minmax_scale(stats.boxcox(transitionsogskegg['log10pval'].values, -0.5), feature_range=(-6,6))\n",
    "\n",
    "transitionsogskegg.to_csv(f'{kegg_file}.kegg.boxcox', sep='\\t', index=None)\n",
    "\n",
    "transitionsogskegg['log10pvalscaled'].plot.hist(bins=100, figsize=(3.1,3.1))"
   ]
  },
  {
   "cell_type": "markdown",
   "id": "8faf431b-1f81-4197-8685-999d62b85ea8",
   "metadata": {},
   "source": [
    "### KEGG ranking file"
   ]
  },
  {
   "cell_type": "code",
   "execution_count": 91,
   "id": "b64ab5a1-32c8-4082-8fd7-42b115a12e0b",
   "metadata": {},
   "outputs": [],
   "source": [
    "transitionsogskeggfilt = transitionsogskegg[['og','log10pvalscaled','id','description','ogname_x']]\n",
    "transitionsogskeggfilt.columns = ['name','score','feature','description','extraname']\n",
    "\n",
    "transitionsogskeggfilt.to_csv(f'{kegg_file}.kegg.boxcox.ranking', sep='\\t', index=None)"
   ]
  },
  {
   "cell_type": "markdown",
   "id": "69476ddb-4178-4f19-803d-04f57c08735e",
   "metadata": {},
   "source": [
    "### KEGG Enrichment"
   ]
  },
  {
   "cell_type": "code",
   "execution_count": 92,
   "id": "99818b1b-fdec-4e9e-be03-a484e3db8ed0",
   "metadata": {
    "tags": []
   },
   "outputs": [
    {
     "name": "stdout",
     "output_type": "stream",
     "text": [
      "\n",
      "Registered S3 method overwritten by 'ggtree':\n",
      "  method      from \n",
      "  identify.gg ggfun\n",
      "clusterProfiler v4.2.0  For help: https://yulab-smu.top/biomedical-knowledge-mining-book/\n",
      "\n",
      "If you use clusterProfiler in published research, please cite:\n",
      "T Wu, E Hu, S Xu, M Chen, P Guo, Z Dai, T Feng, L Zhou, W Tang, L Zhan, X Fu, S Liu, X Bo, and G Yu. clusterProfiler 4.0: A universal enrichment tool for interpreting omics data. The Innovation. 2021, 2(3):100141\n",
      "\n",
      "Attaching package: ‘clusterProfiler’\n",
      "\n",
      "The following object is masked from ‘package:stats’:\n",
      "\n",
      "    filter\n",
      "\n",
      "\u001b[?25h\n",
      "Attaching package: ‘dplyr’\n",
      "\n",
      "The following objects are masked from ‘package:stats’:\n",
      "\n",
      "    filter, lag\n",
      "\n",
      "The following objects are masked from ‘package:base’:\n",
      "\n",
      "    intersect, setdiff, setequal, union\n",
      "\n",
      "\u001b[?25h\n",
      "Attaching package: ‘data.table’\n",
      "\n",
      "The following objects are masked from ‘package:dplyr’:\n",
      "\n",
      "    between, first, last\n",
      "\n",
      "\u001b[?25h\u001b[?25h\n",
      "Attaching package: ‘rlang’\n",
      "\n",
      "The following object is masked from ‘package:data.table’:\n",
      "\n",
      "    :=\n",
      "\n",
      "\u001b[?25h\u001b[?25h\u001b[?25h\u001b[?25h\u001b[?25h\u001b[?25h\u001b[?25h\u001b[?25h\u001b[?25h\u001b[?25h\u001b[?25h\u001b[?25h\u001b[?25hpreparing geneSet collections...\n",
      "GSEA analysis...\n",
      "leading edge analysis...\n",
      "done...\n",
      "\u001b[?25h[1] \"Eukaryota.raxml.RL.transitions.annotated.odb.kegg.boxcox.ranking.enriched\"\n",
      "\u001b[?25h\u001b[?25h\u001b[?25h"
     ]
    }
   ],
   "source": [
    "file = f'{kegg_file}.kegg.boxcox.ranking'\n",
    "!Rscript {cwd}/utilities/enrich.R --input_file {file} --pval_cutoff 1"
   ]
  },
  {
   "cell_type": "markdown",
   "id": "ec0cbeed-9228-4b5b-91a5-88169e9d7174",
   "metadata": {},
   "source": [
    "### Figure 3E"
   ]
  },
  {
   "cell_type": "code",
   "execution_count": 93,
   "id": "0d64f9e1-88e9-4d23-8b3b-b9942aba8195",
   "metadata": {},
   "outputs": [],
   "source": [
    "enrfile = f'{file}.enriched'\n",
    "\n",
    "en = pd.read_csv(enrfile)\n",
    "en['Description'] = en['Description'].apply(lambda x: x.split(',')[0] if '=' in x else x)\n",
    "en['Description'] = en['Description'].apply(lambda x: x.replace('Glycosaminoglycan', 'GAG'))\n",
    "en['Description'] = en['Description'].apply(lambda x: x.replace('Glycosphingolipid', 'GSL'))\n",
    "en['Description'] = en['Description'].apply(lambda x: x.replace('Sesquiterpenoid and triterpenoid', 'Sesqui/Tri-terpenoid'))\n",
    "en['Description'] = en['Description'].apply(lambda x: x.replace('heparan sulfate', 'HS'))\n",
    "en['Description'] = en['Description'].apply(lambda x: x.replace('lacto and neolacto series', 'lacto/neolacto-series'))\n",
    "en['Description'] = en['Description'].apply(lambda x: 'Phe, Tyr and Trp biosynthesis' if 'Phenylalanine, tyrosine' in x else x)\n",
    "en['Description'] = en['Description'].apply(lambda x: 'Val, Leu and Ile degradation' if 'Valine, leucine' in x else x)\n",
    "en.to_csv(enrfile, index=False)"
   ]
  },
  {
   "cell_type": "code",
   "execution_count": 113,
   "id": "d7ba727c-c618-449d-acea-4cdca3943634",
   "metadata": {},
   "outputs": [
    {
     "data": {
      "image/png": "[encoded data removed]",
      "text/plain": [
       "<Figure size 405x300 with 2 Axes>"
      ]
     },
     "metadata": {},
     "output_type": "display_data"
    }
   ],
   "source": [
    "colorsfrommap = [plt.cm.jet(n)[0:3] for n in np.array(list(range(0,12)))/11]\n",
    "viridis = plt.cm.get_cmap('viridis', 256)\n",
    "newcolors = np.array([(1,0.7,0.4,i/255) for i in range(255)])\n",
    "newcmp3 = matplotlib.colors.ListedColormap(newcolors)\n",
    "\n",
    "# define a set of parameters for project uniformity\n",
    "plt.rcParams['axes.linewidth'] = 0.8\n",
    "plt.rcParams['lines.linewidth'] = 0.8\n",
    "plt.rcParams['font.size'] = 8\n",
    "plt.rcParams['xtick.labelsize'] = 6\n",
    "plt.rcParams['ytick.labelsize'] = 6\n",
    "plt.rcParams['legend.fontsize'] = 6\n",
    "\n",
    "colorsfrommap = [plt.cm.jet(n)[0:3] for n in np.array(list(range(0,12)))/11]\n",
    "viridis = plt.cm.get_cmap('viridis', 256)\n",
    "newcolors = np.array([(1,0.7,0.4,i/255) for i in range(255)])\n",
    "newcmp3 = matplotlib.colors.ListedColormap(newcolors)\n",
    "\n",
    "enrfile = f'{file}.enriched'\n",
    "pval = 0.01\n",
    "maxgr = 20\n",
    "enrSize = 20\n",
    "save = True\n",
    "figsize = (4.05,3)\n",
    "\n",
    "plotenrichment(enrfile, file, enrSize, newcmp3,  f'NES KEGG Meta', pval, maxgr, save, figsize)"
   ]
  },
  {
   "cell_type": "markdown",
   "id": "42ae2a0c-f877-4b55-8e69-3fbd28a21296",
   "metadata": {},
   "source": [
    "# Clusters analysis"
   ]
  },
  {
   "cell_type": "markdown",
   "id": "3dddb9d2-a747-43b9-a28b-2956eb4d1307",
   "metadata": {},
   "source": [
    "## Clusters scores"
   ]
  },
  {
   "cell_type": "code",
   "execution_count": 95,
   "id": "0f8d6544-0f1a-4ef9-aa4d-1297a420736b",
   "metadata": {},
   "outputs": [],
   "source": [
    "# columns = description, id, db, og\n",
    "\n",
    "# filter kegg ids (e.g. metabolism)\n",
    "filton = '00'\n",
    "# filter out kegg macro classes\n",
    "filterkegg = ['Metabolic pathways']\n",
    "# filter out go macro classes\n",
    "filtergo = ['biological process','molecular function','cellular component', 'protein binding']"
   ]
  },
  {
   "cell_type": "code",
   "execution_count": 96,
   "id": "06848887-6263-4908-b1aa-2aad02aaa318",
   "metadata": {},
   "outputs": [],
   "source": [
    "clusters = pd.read_table(clusters_file)\n",
    "\n",
    "kegg = pd.read_table(odb_clusters_file)\n",
    "kegg = kegg.drop_duplicates(['og','id'])\n",
    "kegg = kegg[(kegg['db'].str.contains('KEGG'))]\n",
    "# filter out kegg 'Metabolic pathways'\n",
    "kegg = kegg[~(kegg['description'].isin(filterkegg))]\n",
    "\n",
    "# selecting only KEGG metabolism pathway\n",
    "keggmeta = kegg[kegg['id'].apply(lambda x: re.split('(\\d+)', x)[1]).str.startswith(filton)]\n",
    "\n",
    "goslim = pd.read_table(goslim_file)\n",
    "goslim['ogname'] = goslim['og'].apply(lambda x: ognames.get(x, ''))\n",
    "goslim = goslim[~goslim['goslimname'].isin(filtergo)]"
   ]
  },
  {
   "cell_type": "code",
   "execution_count": 97,
   "id": "f6f195bb-f034-48c4-a906-6d064157df48",
   "metadata": {},
   "outputs": [],
   "source": [
    "def groupfeatures(df, tag):\n",
    "    ''' for each user defined feature, calculates for each cluster the percentage of most frequent ones '''\n",
    "\n",
    "    dfs = []\n",
    "    for c in set(df['cluster']):\n",
    "\n",
    "        dfc = df[df['cluster']==c].drop_duplicates()\n",
    "\n",
    "        dfes, dnas = [], []\n",
    "        for f in set(dfc['feature']):\n",
    "            dfe = dfc[dfc['feature']==f]\n",
    "            dfes.append((dfe.iloc[0]['feature'], len(dfe)))\n",
    "            dnas.append((dfe.iloc[0]['featurename'], len(dfe)))\n",
    "\n",
    "        dfcfeat = pd.DataFrame(dfes, columns = ['feature', 'og'])\n",
    "        dfcnames = pd.DataFrame(dnas, columns = ['featurename', 'og'])\n",
    "\n",
    "        features = ' --- '.join(dfcnames.sort_values('og', ascending=False)['featurename'].values)\n",
    "        frequencies = ' --- '.join(map(str, dfcnames.sort_values('og', ascending=False)['og'].values))\n",
    "        annotatedogs = len(list(set(dfc['og'])))\n",
    "        population = dfc['n'].iloc[0]\n",
    "        frequency = dfcfeat.max()['og']\n",
    "        mostfreqfeat = ' --- '.join(dfcfeat[dfcfeat['og']==frequency]['feature'].tolist())\n",
    "        mostfreqname = ' --- '.join(dfcnames[dfcnames['og']==frequency]['featurename'].tolist())\n",
    "        \n",
    "        # at least 2 og annotated\n",
    "        score = round(frequency/annotatedogs, 2) if not annotatedogs <= 1 else 0\n",
    "\n",
    "        dfs.append([c, population, tag, annotatedogs, frequency, score, \n",
    "                    mostfreqname, mostfreqfeat, features, frequencies])\n",
    "\n",
    "    columns = ['cluster','pop','db','pop.ann','n.mostfreq','score',\n",
    "               'mostfreq','mostfreqfeat','allfeat','n.allfeat']\n",
    "    \n",
    "    return pd.DataFrame(dfs, columns = columns)\n",
    "\n",
    "# standardize datasets header\n",
    "go = goslim[['og','ogname','goslim','goslimname','goslimtype']]\n",
    "go.columns = ['og','ogname','feature','featurename','type']\n",
    "\n",
    "ognames = dict(clusters[['og','name']].values)\n",
    "\n",
    "# all keggs available\n",
    "kegg['ogname'] = kegg['og'].apply(lambda x: ognames.get(x))\n",
    "kegg = kegg[['og','ogname','id','description']].assign(type='K')\n",
    "kegg.columns = ['og','ogname','feature','featurename','type']\n",
    "\n",
    "# only metabolism associated kegg \n",
    "keggmeta['ogname'] = keggmeta['og'].apply(lambda x: ognames.get(x))\n",
    "keggmeta = keggmeta[['og','ogname','id','description']].assign(type='Km')\n",
    "keggmeta.columns = ['og','ogname','feature','featurename','type']\n",
    "\n",
    "dfK = groupfeatures(pd.merge(clusters, kegg, on='og'), 'K')\n",
    "dfKm = groupfeatures(pd.merge(clusters, keggmeta, on='og'), 'Km')\n",
    "dfP = groupfeatures(pd.merge(clusters, go[go['type']=='P'], on='og'), 'P')\n",
    "dfF = groupfeatures(pd.merge(clusters, go[go['type']=='F'], on='og'), 'F')\n",
    "dfC = groupfeatures(pd.merge(clusters, go[go['type']=='C'], on='og'), 'C')\n",
    "# string = pd.read_table(f'{string_outfile}.networkx')\n",
    "\n",
    "# final = pd.concat([dfK,dfKm,dfP,dfF,dfC,string]).sort_values(\n",
    "final = pd.concat([dfK,dfKm,dfP,dfF,dfC]).sort_values(\n",
    "    ['cluster','db'], ascending=[True,False])\n",
    "final['score'] = [x[1] if x[0] >1 else 0\n",
    "                  for x in final[['n.mostfreq','score']\n",
    "                                ].values.tolist()]\n",
    "\n",
    "clusters = clusters.dropna(subset=['cluster','n','og','name'])\n",
    "cluog = dict(clusters.groupby('cluster')['og'].apply(list).apply(lambda x: ' --- '.join(x)).reset_index().values)\n",
    "cluna = dict(clusters.groupby('cluster')['name'].apply(list).apply(lambda x: ' --- '.join(x)).reset_index().values)\n",
    "final['ogs'] = final['cluster'].apply(lambda x: cluog.get(x))\n",
    "final['ognames'] = final['cluster'].apply(lambda x: cluna.get(x))\n",
    "\n",
    "final.to_csv(f'{clusters_file}.{gosource}.scores', sep='\\t', index=None)"
   ]
  },
  {
   "cell_type": "markdown",
   "id": "b29e9c30-9e1d-474a-a4ac-bae04b5f34a5",
   "metadata": {},
   "source": [
    "### Extra figure 7G"
   ]
  },
  {
   "cell_type": "code",
   "execution_count": 98,
   "id": "14a98d68-b335-43e9-9071-c23a3324f8b3",
   "metadata": {},
   "outputs": [],
   "source": [
    "final = pd.concat([dfK,dfKm,dfP,dfF,dfC]).sort_values(\n",
    "    ['cluster','db'], ascending=[True,False])\n",
    "final['annscore'] = final['pop.ann']/final['pop']\n",
    "final['annscore'] = final['annscore'].apply(lambda x: round(x, 2))\n",
    "final = final.reset_index(drop=True)\n",
    "cluempt = pd.DataFrame(itertools.chain(*[list(zip(['P','C','F','K','Km'], [f]*5, \n",
    "          [0]*5, [dict(clusters[['cluster','n']\n",
    "                               ].values.tolist()).get(f)]*5)) \n",
    " for f in set(clusters['cluster'])]), columns=['db','cluster','annscore','pop'])\n",
    "final2 = pd.merge(cluempt, final, on=['db','cluster','annscore','pop'], how='outer'\n",
    "        ).sort_values(['cluster','db','annscore'], ascending=[True,True,False]).drop_duplicates(['cluster','db'])"
   ]
  },
  {
   "cell_type": "code",
   "execution_count": 99,
   "id": "5e06c492-1cc7-4ae0-9c29-3c069eba1a2b",
   "metadata": {
    "tags": []
   },
   "outputs": [
    {
     "data": {
      "image/png": "[encoded data removed]",
      "text/plain": [
       "<Figure size 310x310 with 3 Axes>"
      ]
     },
     "metadata": {},
     "output_type": "display_data"
    }
   ],
   "source": [
    "maxn = 5\n",
    "final2['pop'] = final2['pop'].apply(lambda x: maxn if x >= maxn else x)\n",
    "final2 = final2.sort_values(['cluster','annscore'], ascending=[True,False]).drop_duplicates(['cluster','db'])\n",
    "\n",
    "plt.rcParams['axes.linewidth'] = 0.8\n",
    "plt.rcParams['lines.linewidth'] = 0.8\n",
    "plt.rcParams['font.size'] = 8\n",
    "plt.rcParams['xtick.labelsize'] = 6\n",
    "plt.rcParams['ytick.labelsize'] = 6\n",
    "plt.rcParams['legend.fontsize'] = 6\n",
    "\n",
    "fig, axes = plt.subplots(1,3, figsize=(3.1, 3.1), \n",
    "    dpi=100, sharey=True)\n",
    "\n",
    "# iterate for each database and assign them a color\n",
    "for i, ax in zip(set(final2['pop']), axes):\n",
    "    for db, col in zip(['P','C','F','K','Km'], \n",
    "                       [(0,0.75,0.75),(0.75,0.75,0),\n",
    "                        (0.75,0,0.75),(1,0.5,0.5),\n",
    "                        (1,0.7,0.4)]):\n",
    "        \n",
    "        d = final2[final2['db']==db][final2['pop']==i]\n",
    "        d[db] = d['annscore']\n",
    "        d.sort_values(db)[db].plot.kde(color=col, ax=ax)\n",
    "    \n",
    "    ax.spines[['top','right','left']].set_visible(False)\n",
    "    ax.set_xticks([0, 0.5, 1])\n",
    "    ax.set_xlim(0,1)\n",
    "    ax.tick_params(axis='y', which='both', left=False)\n",
    "    \n",
    "    ax.set_xlabel(i)\n",
    "    if i == maxn:\n",
    "        ax.set_xlabel('≥'+str(i))\n",
    "\n",
    "axes[0].spines[['left']].set_visible(True)\n",
    "axes[-1].spines[['bottom']].set_visible(True)\n",
    "plt.ylim(0,3.5)\n",
    "plt.xlim(0,1)\n",
    "\n",
    "# plt.xlabel('prova')\n",
    "plt.legend(['BP','CC','MF','KEGG','KEGG_Meta'], \n",
    "           loc=(0.2, 0.7), frameon=False, title='Database')\n",
    "\n",
    "fig.tight_layout()\n",
    "fig.savefig(f'{clusters_file}.annotationscore.densitysingle.{gosource}.{imgformat}', dpi=300)"
   ]
  },
  {
   "cell_type": "code",
   "execution_count": 100,
   "id": "fe01ae7e-8e1d-47a6-a054-21320fa65957",
   "metadata": {},
   "outputs": [
    {
     "data": {
      "image/png": "[encoded data removed]",
      "text/plain": [
       "<Figure size 465x465 with 1 Axes>"
      ]
     },
     "metadata": {},
     "output_type": "display_data"
    }
   ],
   "source": [
    "maxn = 5\n",
    "final2['pop'] = final2['pop'].apply(lambda x: maxn if x >= maxn else x)\n",
    "final2 = final2.sort_values(['cluster','annscore'], ascending=[True,False]).drop_duplicates(['cluster','db'])\n",
    "final2 = final2.fillna(method='pad')\n",
    "\n",
    "fig, axes = plt.subplots(1,1,figsize=(3.1,3.1), dpi=150, sharex=True)\n",
    "\n",
    "# iterate for each database and assign them a color\n",
    "for db, col in zip(['P','C','F','K','Km'], [(0,0.75,0.75),(0.75,0.75,0),(0.75,0,0.75),(1,0.5,0.5),(1,0.7,0.4)]):\n",
    "    d = final2[final2['db']==db]\n",
    "    d[db] = d['annscore']\n",
    "    d.sort_values(db)[db].plot.kde(color=col, ax=axes)\n",
    "axes.spines[['right','top']].set_visible(False)\n",
    "plt.legend(['BP','CC','MF','KEGG','KEGG_Meta'], loc='upper right', frameon=False, title='Database')\n",
    "axes.set_xlabel('Db consensus')\n",
    "fig.tight_layout()\n",
    "plt.ylim(0,3)\n",
    "plt.xlim(0,1)\n",
    "fig.savefig(f'{clusters_file}.annotationscore.densitysingle.{gosource}.{imgformat}', dpi=300)"
   ]
  },
  {
   "cell_type": "code",
   "execution_count": 101,
   "id": "784d83ad-38ce-47c0-a172-80e54e73748d",
   "metadata": {},
   "outputs": [],
   "source": [
    "cluss = []\n",
    "for db in ['total','C','P','F','K','Km']:\n",
    "\n",
    "    goslim2 = goslim.drop_duplicates(['og','goslimname']).groupby(['og','goslimtype'])['goslimname'].apply(list).reset_index()\n",
    "    kegg2 = kegg.groupby(['og','type'])['featurename'].apply(list).reset_index()\n",
    "    keggmeta2 = keggmeta.groupby(['og','type'])['featurename'].apply(list).reset_index()\n",
    "    allfeat = pd.concat([goslim2.rename(columns={'goslimtype':'type','goslimname':'description'}),\n",
    "               kegg2.rename(columns={'featurename':'description'}),\n",
    "               keggmeta2.rename(columns={'featurename':'description'})])\n",
    "\n",
    "    clusters2 = pd.merge(clusters, allfeat, how='outer').dropna(subset=['cluster'])\n",
    "\n",
    "    clusters3 = clusters2.groupby(['cluster','n','og'])['type'].apply(list).reset_index()\n",
    "\n",
    "    if db == 'total':\n",
    "        clusters3['annotated'] = clusters3['type'].apply(lambda x: len([i for i in x if str(i)!='nan'])>0)\n",
    "    else:\n",
    "        clusters3['annotated'] = clusters3['type'].apply(lambda x: len([i for i in x if str(i)==db])>0)\n",
    "\n",
    "    clusters4 = clusters3.groupby(['cluster','n'])['annotated'].sum().reset_index()\n",
    "    clusters4['annratio'] = clusters4['annotated']/clusters4['n']\n",
    "    clusters4['annratioscal'] = clusters4['annratio'].apply(lambda x: \n",
    "            # 1 if x == 1 else 0 if x == 0 else 0.33 if x<0.5 else 0.5 if x==0.5 else 0.66 if x>0.5 else None)\n",
    "            1 if x == 1 else 0 if x == 0 else 0.5)\n",
    "    # clusters4['annratioscal'].plot.hist(ylim=(0,2300), histtype='bar')\n",
    "\n",
    "    clus = clusters4['annratioscal'].rename(db).reset_index()\n",
    "    clus = clus.rename(columns={db:'score'})\n",
    "    clus['db'] = db\n",
    "    clus = clus.drop('index', axis=1)\n",
    "    cluss.append(clus)\n",
    "    \n",
    "pp = pd.concat(cluss).groupby(['db','score'], sort=False)['db'].count().rename('counts').reset_index()"
   ]
  },
  {
   "cell_type": "code",
   "execution_count": 102,
   "id": "6b4f2e24-2e29-4246-bf03-f46b445396e3",
   "metadata": {},
   "outputs": [
    {
     "data": {
      "image/png": "[encoded data removed]",
      "text/plain": [
       "<Figure size 310x220 with 1 Axes>"
      ]
     },
     "metadata": {},
     "output_type": "display_data"
    }
   ],
   "source": [
    "import seaborn as sns\n",
    "\n",
    "plt.rcParams['axes.linewidth'] = 0.8\n",
    "plt.rcParams['lines.linewidth'] = 0.8\n",
    "plt.rcParams['font.size'] = 8\n",
    "plt.rcParams['xtick.labelsize'] = 6\n",
    "plt.rcParams['ytick.labelsize'] = 6\n",
    "plt.rcParams['legend.fontsize'] = 6\n",
    "\n",
    "fig, ax = plt.subplots(1, figsize=(3.1, 2.2), dpi=100)\n",
    "\n",
    "pp = pd.concat(cluss).groupby(['db','score'], sort=False)['db'].count().rename('counts').reset_index()\n",
    "ax = sns.barplot(data=pp, x='score', y='counts', hue='db', width=0.5, alpha=0.66, palette=\n",
    "                 ['gray',(0.75,0.75,0,0.66),(0,0.75,0.75,0.66),\n",
    "                        (0.75,0,0.75,0.66),(1,0,0,0.66),\n",
    "                        (1,0.7,0.4,0.66)])\n",
    "plt.xticks([0,0.5,1,2], ['0','','(0,1)','1'])\n",
    "plt.xlabel('Fraction of annotated orthogroups')\n",
    "plt.ylabel('# Modules')\n",
    "plt.legend(frameon=False, title='Database')\n",
    "ax.spines[['top', 'right']].set_visible(False)\n",
    "fig.tight_layout()\n",
    "fig.savefig(f'{clusters_file}.annotationscore3.{gosource}.{imgformat}', dpi=150)"
   ]
  },
  {
   "cell_type": "markdown",
   "id": "356f1be0-b720-4c21-937b-6f3676677fc4",
   "metadata": {},
   "source": [
    "## Extra figure 7J"
   ]
  },
  {
   "cell_type": "code",
   "execution_count": 103,
   "id": "21c2b700-7593-41e8-b691-e8934022fd76",
   "metadata": {},
   "outputs": [],
   "source": [
    "# plotting clusters with at least 50% of orthogroup annotated\n",
    "clusters = pd.read_table(clusters_file)\n",
    "scores = pd.read_table(scores_file)\n",
    "perc_thr = 50\n",
    "\n",
    "clusterslen = clusters.drop_duplicates('cluster').groupby('n')['cluster'].apply(len).reset_index().rename(columns={'n':'pop'})\n",
    "\n",
    "dfs = [clusterslen]\n",
    "# for d in ['P','C','F','K','Km','S']:\n",
    "for d in ['P','C','F','K','Km']:\n",
    "    scores['perc.ann'] = scores['pop.ann']*100/scores['pop']\n",
    "    scoresann = scores[scores['db']==d][scores['perc.ann']>=perc_thr] # >= --> module size 2, 1 annotated og --> 0.5\n",
    "    clusterslendb = scoresann.groupby('pop')['cluster'].apply(len).reset_index()\n",
    "    clusterslendb = clusterslendb.rename(columns={'cluster':d})\n",
    "    dfs.append(clusterslendb)\n",
    "    \n",
    "dfsmerg = reduce(lambda left, right: \n",
    "                   pd.merge(left, right,on=['pop'], how='outer'), dfs)\n",
    "dfsmerg = dfsmerg.rename(columns={'pop':'clustersize', 'cluster':'count'})"
   ]
  },
  {
   "cell_type": "code",
   "execution_count": 104,
   "id": "370476ef-9256-455c-b5ff-beed0f105929",
   "metadata": {
    "tags": []
   },
   "outputs": [
    {
     "data": {
      "image/png": "[encoded data removed]",
      "text/plain": [
       "<Figure size 310x310 with 1 Axes>"
      ]
     },
     "metadata": {},
     "output_type": "display_data"
    }
   ],
   "source": [
    "uplim = 5 # default 10\n",
    "save = True\n",
    "\n",
    "plt.rcParams['axes.linewidth'] = 0.8\n",
    "plt.rcParams['lines.linewidth'] = 0.8\n",
    "plt.rcParams['font.size'] = 8\n",
    "plt.rcParams['xtick.labelsize'] = 6\n",
    "plt.rcParams['ytick.labelsize'] = 6\n",
    "plt.rcParams['legend.fontsize'] = 6\n",
    "\n",
    "dfsmerg1 = dfsmerg[dfsmerg['clustersize']<uplim]\n",
    "dfsmerg1.loc[8] = [uplim]+dfsmerg[\n",
    "    dfsmerg['clustersize']>=uplim].sum(axis=0).tolist()[1:]\n",
    "\n",
    "fig, (ax2) = plt.subplots(1, 1, figsize=(3.1,3.1), \n",
    "                          dpi=100, sharex=True)\n",
    "\n",
    "colorsfrommap = [plt.cm.jet(n)[0:3] for n in \n",
    "                 np.array(list(range(0,12)))/11]\n",
    "\n",
    "for i in range(2, uplim+1):\n",
    "\n",
    "    if i in set(dfsmerg1['clustersize']):\n",
    "        n2 = dfsmerg1[dfsmerg1['clustersize']==i]\n",
    "\n",
    "        ax2.bar(i, n2['count'].iloc[0],  0.75, label='Total', color='gainsboro')\n",
    "        # ax2.bar(i-0.3, n2['S'].iloc[0],  0.15, label='String', color=(0.2,0.5,0.2,0.8))\n",
    "        ax2.bar(i-0.3, n2['P'].iloc[0],  0.15, label='BP',        color=(0, 0.75, 0.75))\n",
    "        ax2.bar(i-0.15, n2['C'].iloc[0],  0.15, label='CC',        color=(0.75,0.75,0)) \n",
    "        ax2.bar(i-0.0, n2['F'].iloc[0],  0.15, label='MF',        color=(0.75,0,0.75)) \n",
    "        ax2.bar(i+0.15, n2['K'].iloc[0],  0.15, label='KEGG',      color=(0.75, 0, 0))\n",
    "        ax2.bar(i+0.3, n2['Km'].iloc[0], 0.15, label='KEGG_Meta', color=(1, 0.65, 0))\n",
    "\n",
    "        plt.xlim(1, uplim+1)\n",
    "        ax2.set_xticks(list(range(2, uplim+1)))\n",
    "        labels = list(map(str, list(range(2, uplim+1))))\n",
    "        labels[-1] = f'>{uplim}'\n",
    "        ax2.set_xticklabels(labels)\n",
    "        if i == 2:\n",
    "            ax2.legend(loc='upper right', frameon=False)\n",
    "        \n",
    "ax2.spines['top'].set_visible(False)\n",
    "ax2.xaxis.tick_bottom()\n",
    "ax2.spines[['top', 'right']].set_visible(False)\n",
    "ax2.set_xlabel('Module size')\n",
    "ax2.set_ylabel('# Modules')\n",
    "\n",
    "plt.subplots_adjust(hspace=0.1)\n",
    "\n",
    "if save == True:\n",
    "    fig.tight_layout()\n",
    "    fig.savefig(f'{clusters_file}.distributions.{gosource}.{imgformat}', dpi=300)"
   ]
  },
  {
   "cell_type": "markdown",
   "id": "713d9d26-d738-4623-abb9-bf54dc8a5338",
   "metadata": {},
   "source": [
    "## Figure 3D"
   ]
  },
  {
   "cell_type": "code",
   "execution_count": 111,
   "id": "499fd732-fecd-490c-a100-11613bf03ed0",
   "metadata": {},
   "outputs": [
    {
     "data": {
      "image/png": "[encoded data removed]",
      "text/plain": [
       "<Figure size 310x220 with 1 Axes>"
      ]
     },
     "metadata": {},
     "output_type": "display_data"
    }
   ],
   "source": [
    "# plotting the scores for each cluster\n",
    "\n",
    "plt.rcParams['axes.linewidth'] = 0.8\n",
    "plt.rcParams['lines.linewidth'] = 0.8\n",
    "plt.rcParams['font.size'] = 8\n",
    "plt.rcParams['xtick.labelsize'] = 6\n",
    "plt.rcParams['ytick.labelsize'] = 6\n",
    "plt.rcParams['legend.fontsize'] = 6\n",
    "\n",
    "save = True\n",
    "\n",
    "scores = pd.read_table(f'{clusters_file}.{gosource}.scores')\n",
    "# DBC score\n",
    "scores['pop.ann.perc'] = scores['pop.ann']/scores['pop']\n",
    "scores = scores[scores['pop.ann.perc']>0.5] # at least 50% annotated og in each cluster\n",
    "# scores = scores[scores['pop.ann']>=2]\n",
    "scores = scores[~scores['mostfreq'].astype(str).str.contains('protein binding', case=False)]\n",
    "\n",
    "ann = {'K': 'K', 'Km': 'KM', 'S': 'S', 'F': 'MF', 'P': 'BP', 'C': 'CC', 'All': 'All'}\n",
    "\n",
    "df2 = pd.concat([pd.DataFrame([[ann.get(d), len(scores[scores['db']==d][scores['score']==1].drop_duplicates('cluster')), 's=1'],\n",
    "                               [ann.get(d), len(scores[scores['db']==d][scores['score']==0].drop_duplicates('cluster')), 's=0'],\n",
    "                               [ann.get(d), len(scores[scores['db']==d][(scores['score']>0)&(scores['score']<1)].drop_duplicates('cluster')), 's(0,1)'],]) \n",
    "                 for d in ['K','Km','S','P','C','F']])\n",
    "df2.columns = ['type','count','slice']\n",
    "df2 = df2.reset_index(drop=True)\n",
    "\n",
    "s1 = scores.groupby('cluster')['score'].apply(list)\n",
    "s2 = s1.apply(lambda x: 1 if 1 in x else 0 if x.count(0)==len(x) else 0.5)\n",
    "s3 = pd.DataFrame([\n",
    "    ['All','All','All'],\n",
    "    ['s=1','s(0,1)','s=0'],\n",
    "    [s2.tolist().count(1), s2.tolist().count(0.5), s2.tolist().count(0)],\n",
    "]).T\n",
    "s3.columns = ['type','slice','count']\n",
    "s3 = pd.concat([df2, s3])\n",
    "\n",
    "df2 = s3.reset_index(drop=True)\n",
    "\n",
    "fig, ax = plt.subplots(figsize=(3.1,2.2), dpi=100)\n",
    "for e, (colo, typ) in enumerate(zip([(0,0,0),(0.75,0.75,0),(0,0.75,0.75),(0.75,0,0.75),(1,0.7,0.4),(1,0.7,0.4),], ['All','CC','BP','MF','K','KM'])):\n",
    "    ax.bar(e-0.25, df2[df2['type']==typ][df2['slice']=='s=0']['count'], width=0.25, color=colo, alpha=0.33)\n",
    "    ax.bar(e, df2[df2['type']==typ][df2['slice']=='s(0,1)']['count'], width=0.25, color=colo, alpha=0.66)\n",
    "    ax.bar(e+0.25, df2[df2['type']==typ][df2['slice']=='s=1']['count'], width=0.25, color=colo, alpha=1)\n",
    "    \n",
    "ax.bar(0,0,0,color=(0,0,0,0.33),label='0')\n",
    "ax.bar(0,0,0,color=(0,0,0,0.66),label='(0,1)')\n",
    "ax.bar(0,0,0,color=(0,0,0,1),label='1')\n",
    "\n",
    "ax.set_xlabel('Database')\n",
    "ax.set_ylabel('# Modules')\n",
    "\n",
    "ax.spines[['top','right']].set_visible(False)\n",
    "ax.set_xticklabels(['-','All', 'CC','BP','MF','KEGG','KEGG_M'])\n",
    "plt.legend(loc=(0.63,0.53), title='Db consensus', frameon=False)\n",
    "\n",
    "ax.annotate('Gene Ontology', xy=(0.41, 1.03), xytext=(0.41, 1.05), xycoords='axes fraction', \n",
    "            fontsize=6, ha='center', va='bottom',color='gray',\n",
    "            arrowprops=dict(arrowstyle='-[, widthB=6.3, lengthB=0.5',color='gray', lw=1.0))\n",
    "\n",
    "ax.annotate('KEGG PATHWAY', xy=(0.81, 1.03), xytext=(0.81, 1.05), xycoords='axes fraction', \n",
    "            fontsize=6, ha='center', va='bottom',color='gray',\n",
    "            arrowprops=dict(arrowstyle='-[, widthB=4, lengthB=0.5',color='gray', lw=1.0))\n",
    "\n",
    "fig.tight_layout()\n",
    "fig.savefig(f'{clusters_file}.annotationscores.{gosource}.{imgformat}', dpi=300)"
   ]
  },
  {
   "cell_type": "markdown",
   "id": "5176570b-c2e0-4f78-af1b-9cde354b90c0",
   "metadata": {},
   "source": [
    "## Extra figure 7O"
   ]
  },
  {
   "cell_type": "code",
   "execution_count": 106,
   "id": "0dabc5a1-d1cd-4784-9449-1668122cbb1d",
   "metadata": {
    "tags": []
   },
   "outputs": [],
   "source": [
    "gopdict = dict(goslim[goslim['goslimtype']=='P'].groupby('og')['goslimname'].apply(list).reset_index().values.tolist())\n",
    "gocdict = dict(goslim[goslim['goslimtype']=='C'].groupby('og')['goslimname'].apply(list).reset_index().values.tolist())\n",
    "gofdict = dict(goslim[goslim['goslimtype']=='F'].groupby('og')['goslimname'].apply(list).reset_index().values.tolist())\n",
    "kegdict = dict(kegg.groupby('og')['featurename'].apply(list).reset_index().values.tolist())\n",
    "kegmdict = dict(keggmeta.groupby('og')['featurename'].apply(list).reset_index().values.tolist())\n",
    "clusters['P'] = clusters['og'].apply(lambda x: gopdict.get(x))\n",
    "clusters['C'] = clusters['og'].apply(lambda x: gocdict.get(x))\n",
    "clusters['F'] = clusters['og'].apply(lambda x: gofdict.get(x))\n",
    "clusters['K'] = clusters['og'].apply(lambda x: kegdict.get(x))\n",
    "clusters['Km'] = clusters['og'].apply(lambda x: kegmdict.get(x))\n",
    "\n",
    "dfs = []\n",
    "for db in ['P','C','F','K','Km']:\n",
    "    counts = clusters.groupby('cluster')[db].apply(list).apply(lambda x: [len(set(i)) if i else None for i in x])\n",
    "    counts = counts.apply(lambda x: len(x)-x.count(None)).rename(db)\n",
    "    dfs.append(counts)\n",
    "dfs = pd.concat(dfs, 1).reset_index()\n",
    "\n",
    "\n",
    "ndict = dict(clusters[['cluster','n']].values.tolist())\n",
    "dfs['n'] = dfs['cluster'].apply(lambda x: ndict.get(x))\n",
    "# dfs = dfs[dfs['n']!=2]\n",
    "\n",
    "clusters['tot'] = clusters.iloc[:,6:].isnull().all(axis=1)\n",
    "countnan = clusters.groupby('cluster')['tot'].apply(list).apply(lambda x: x.count(False))\n",
    "countnan = countnan.apply(lambda x: 3 if x >= 3 else x).tolist()\n",
    "\n",
    "counts = []\n",
    "for db in ['P','C','F','K','Km']:\n",
    "    counts.append([db, dfs[db].tolist().count(0), dfs[db].tolist().count(1), \n",
    "                   dfs[db].tolist().count(2), dfs[db].apply(lambda x: 3 if x >= 3 else x).tolist().count(3)])\n",
    "counts.append(['All', countnan.count(0), countnan.count(1), countnan.count(2), countnan.count(3)])\n",
    "\n",
    "counts = pd.DataFrame(counts)"
   ]
  },
  {
   "cell_type": "code",
   "execution_count": 107,
   "id": "cfe6e07b-05a5-4ed1-8533-00560b1eba87",
   "metadata": {},
   "outputs": [
    {
     "data": {
      "image/png": "[encoded data removed]",
      "text/plain": [
       "<Figure size 310x310 with 1 Axes>"
      ]
     },
     "metadata": {},
     "output_type": "display_data"
    }
   ],
   "source": [
    "plt.rcParams['axes.linewidth'] = 0.8\n",
    "plt.rcParams['lines.linewidth'] = 0.8\n",
    "plt.rcParams['font.size'] = 8\n",
    "plt.rcParams['xtick.labelsize'] = 6\n",
    "plt.rcParams['ytick.labelsize'] = 6\n",
    "plt.rcParams['legend.fontsize'] = 6\n",
    "\n",
    "save = True\n",
    "\n",
    "fig, ax = plt.subplots(figsize=(3.1,3.1))\n",
    "\n",
    "for i, db in zip(range(6), counts[0].tolist()):\n",
    "    try:\n",
    "        lis = counts[i+1].tolist()\n",
    "        ax.bar(i-0.25, lis[0], 0.1, label='P', color=(0,0.75,0.75))\n",
    "        ax.bar(i-0.15, lis[1], 0.1, label='C', color=(0.75,0.75,0))\n",
    "        ax.bar(i-0.05, lis[2], 0.1, label='F', color=(0.75,0,0.75))\n",
    "        ax.bar(i+0.05, lis[3], 0.1, label='K', color=(0.75, 0, 0))\n",
    "        ax.bar(i+0.15, lis[4], 0.1, label='Km', color=(1,0.7,0.4))\n",
    "        ax.bar(i+0.25, lis[5], 0.1, label='All', color='gray')\n",
    "    except:\n",
    "        pass\n",
    "\n",
    "plt.legend(['BP','CC','MF','KEGG','KEGG_Meta','All'], frameon=False)\n",
    "ax.spines[['top','right']].set_visible(False)\n",
    "\n",
    "ax.set_xticks([0,1,2,3])\n",
    "ax.set_xticklabels(['0','1','2','≥3'])\n",
    "ax.set_xlabel('# Orthogroups annotated')\n",
    "ax.set_ylabel('# Modules')\n",
    "\n",
    "if save == True:\n",
    "    fig.tight_layout()\n",
    "    fig.savefig(f'{clusters_file}.orthogroupsannotated.{gosource}.{imgformat}', dpi=300)"
   ]
  },
  {
   "cell_type": "markdown",
   "id": "9fd74ed9-6cd8-4461-b1af-4eeca716d264",
   "metadata": {},
   "source": [
    "## Figure 3C"
   ]
  },
  {
   "cell_type": "code",
   "execution_count": 110,
   "id": "9b676332-9d60-4227-8794-1c42d3642ea5",
   "metadata": {
    "tags": []
   },
   "outputs": [
    {
     "data": {
      "image/png": "[encoded data removed]",
      "text/plain": [
       "<Figure size 310x220 with 1 Axes>"
      ]
     },
     "metadata": {},
     "output_type": "display_data"
    }
   ],
   "source": [
    "## plotting the scores for each cluster\n",
    "\n",
    "plt.rcParams['axes.linewidth'] = 0.8\n",
    "plt.rcParams['lines.linewidth'] = 0.8\n",
    "plt.rcParams['font.size'] = 8\n",
    "plt.rcParams['xtick.labelsize'] = 6\n",
    "plt.rcParams['ytick.labelsize'] = 6\n",
    "plt.rcParams['legend.fontsize'] = 6\n",
    "\n",
    "save = True\n",
    "\n",
    "cluss = []\n",
    "for db in ['total','C','P','F','K','Km']:\n",
    "\n",
    "    goslim2 = goslim.drop_duplicates(['og','goslimname']).groupby(['og','goslimtype'])['goslimname'].apply(list).reset_index()\n",
    "    kegg2 = kegg.groupby(['og','type'])['featurename'].apply(list).reset_index()\n",
    "    keggmeta2 = keggmeta.groupby(['og','type'])['featurename'].apply(list).reset_index()\n",
    "    allfeat = pd.concat([goslim2.rename(columns={'goslimtype':'type','goslimname':'description'}),\n",
    "               kegg2.rename(columns={'featurename':'description'}),\n",
    "               keggmeta2.rename(columns={'featurename':'description'})])\n",
    "\n",
    "    clusters2 = pd.merge(clusters, allfeat, how='outer').dropna(subset=['cluster'])\n",
    "\n",
    "    clusters3 = clusters2.groupby(['cluster','n','og'])['type'].apply(list).reset_index()\n",
    "\n",
    "    if db == 'total':\n",
    "        clusters3['annotated'] = clusters3['type'].apply(lambda x: len([i for i in x if str(i)!='nan'])>0)\n",
    "    else:\n",
    "        clusters3['annotated'] = clusters3['type'].apply(lambda x: len([i for i in x if str(i)==db])>0)\n",
    "\n",
    "    clusters4 = clusters3.groupby(['cluster','n'])['annotated'].sum().reset_index()\n",
    "    clusters4['annratio'] = clusters4['annotated']/clusters4['n']\n",
    "    clusters4['annratioscal'] = clusters4['annratio'].apply(lambda x: \n",
    "            # 1 if x == 1 else 0 if x == 0 else 0.33 if x<0.5 else 0.5 if x==0.5 else 0.66 if x>0.5 else None)\n",
    "            1 if x == 1 else 0 if x == 0 else 0.5)\n",
    "    # clusters4['annratioscal'].plot.hist(ylim=(0,2300), histtype='bar')\n",
    "\n",
    "    clus = clusters4['annratioscal'].rename(db).reset_index()\n",
    "    clus = clus.rename(columns={db:'score'})\n",
    "    clus['db'] = db\n",
    "    clus = clus.drop('index', axis=1)\n",
    "    cluss.append(clus)\n",
    "    \n",
    "pp = pd.concat(cluss).groupby(['db','score'], sort=False)['db'].count().rename('counts').reset_index()\n",
    "pp['score'] = pp['score'].apply(lambda x: 's=0' if x == 0 else 's=1' if x==1 else 's(0,1)')\n",
    "pp.columns = ['type','slice','count']\n",
    "ann = {'K': 'K', 'Km': 'KM', 'S': 'S', 'F': 'MF', 'P': 'BP', 'C': 'CC', 'total': 'All'}\n",
    "pp['type'] = pp['type'].apply(lambda x: ann.get(x))\n",
    "df2 = pp\n",
    "\n",
    "fig, ax = plt.subplots(figsize=(3.1,2.2), dpi=100)\n",
    "for e, (colo, typ) in enumerate(zip([(0,0,0),(0.75,0.75,0),(0,0.75,0.75),(0.75,0,0.75),(1,0.7,0.4),(1,0.7,0.4),], ['All','CC','BP','MF','K','KM'])):\n",
    "    ax.bar(e-0.25, df2[df2['type']==typ][df2['slice']=='s=0']['count'], width=0.25, color=colo, alpha=0.33)\n",
    "    ax.bar(e, df2[df2['type']==typ][df2['slice']=='s(0,1)']['count'], width=0.25, color=colo, alpha=0.66)\n",
    "    ax.bar(e+0.25, df2[df2['type']==typ][df2['slice']=='s=1']['count'], width=0.25, color=colo, alpha=1)\n",
    "    \n",
    "ax.bar(0,0,0,color=(0,0,0,0.33),label='0')\n",
    "ax.bar(0,0,0,color=(0,0,0,0.66),label='(0,1)')\n",
    "ax.bar(0,0,0,color=(0,0,0,1),label='1')\n",
    "\n",
    "ax.set_xlabel('Database')\n",
    "ax.set_ylabel('# Modules')\n",
    "\n",
    "ax.spines[['top','right']].set_visible(False)\n",
    "ax.set_xticklabels(['-','All', 'CC','BP','MF','KEGG','KEGG_M'])\n",
    "plt.legend(loc=(0.63,0.53), title='Db annotation', frameon=False)\n",
    "\n",
    "ax.annotate('Gene Ontology', xy=(0.41, 1.03), xytext=(0.41, 1.05), xycoords='axes fraction', \n",
    "            fontsize=6, ha='center', va='bottom',color='gray',\n",
    "            arrowprops=dict(arrowstyle='-[, widthB=6.3, lengthB=0.5',color='gray', lw=1.0))\n",
    "\n",
    "ax.annotate('KEGG PATHWAY', xy=(0.81, 1.03), xytext=(0.81, 1.05), xycoords='axes fraction', \n",
    "            fontsize=6, ha='center', va='bottom',color='gray',\n",
    "            arrowprops=dict(arrowstyle='-[, widthB=4, lengthB=0.5',color='gray', lw=1.0))\n",
    "\n",
    "fig.tight_layout()\n",
    "fig.savefig(f'{clusters_file}.annotationscores_prova.{gosource}.{imgformat}', dpi=300)"
   ]
  },
  {
   "cell_type": "code",
   "execution_count": null,
   "id": "56d31754-f2cf-4782-9e0a-1766b7b7567d",
   "metadata": {},
   "outputs": [],
   "source": []
  },
  {
   "cell_type": "code",
   "execution_count": null,
   "id": "e627c635-eee8-4ceb-9dd6-5c7096692daa",
   "metadata": {},
   "outputs": [],
   "source": []
  },
  {
   "cell_type": "code",
   "execution_count": null,
   "id": "f1d51946-184e-4d54-b050-78c6bc8a86b0",
   "metadata": {},
   "outputs": [],
   "source": []
  },
  {
   "cell_type": "code",
   "execution_count": null,
   "id": "39994449-08cb-441a-8fc5-36baa2fbf931",
   "metadata": {},
   "outputs": [],
   "source": []
  },
  {
   "cell_type": "code",
   "execution_count": null,
   "id": "b74d7668-e829-452e-bf6d-fa517de3f133",
   "metadata": {},
   "outputs": [],
   "source": []
  },
  {
   "cell_type": "code",
   "execution_count": null,
   "id": "f4349042-2ae9-46f1-bd6d-20084eea617a",
   "metadata": {},
   "outputs": [],
   "source": []
  }
 ],
 "metadata": {
  "kernelspec": {
   "display_name": "Python 3 (ipykernel)",
   "language": "python",
   "name": "python3"
  },
  "language_info": {
   "codemirror_mode": {
    "name": "ipython",
    "version": 3
   },
   "file_extension": ".py",
   "mimetype": "text/x-python",
   "name": "python",
   "nbconvert_exporter": "python",
   "pygments_lexer": "ipython3",
   "version": "3.10.6"
  },
  "toc-autonumbering": false,
  "toc-showcode": false,
  "toc-showmarkdowntxt": true
 },
 "nbformat": 4,
 "nbformat_minor": 5
}
